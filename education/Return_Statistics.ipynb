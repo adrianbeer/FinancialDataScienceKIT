{
 "cells": [
  {
   "cell_type": "markdown",
   "metadata": {},
   "source": [
    "# Goal: Running a Basic Explorative Asset Return Analysis"
   ]
  },
  {
   "cell_type": "markdown",
   "metadata": {},
   "source": [
    "## Hey, Python techies!!"
   ]
  },
  {
   "cell_type": "markdown",
   "metadata": {},
   "source": [
    "The first step when working with a financial data set is often to calculate some basic return statistics. For that, we plot the time series of asset returns, calculate its annualized mean and volatility and compute its Sharpe ratio. This way, we get a feeling for the data and are able to immediately identify strange-looking numbers, which would likely point to errors in the data set.\n",
    "\n",
    "## Let's see how all of that works."
   ]
  },
  {
   "cell_type": "markdown",
   "metadata": {},
   "source": [
    "For the analysis, we will need the pandas, the numpy and the matplotlib modules, which we import first."
   ]
  },
  {
   "cell_type": "code",
   "execution_count": 14,
   "metadata": {},
   "outputs": [],
   "source": [
    "import pandas as pd\n",
    "import numpy as np\n",
    "import matplotlib.pyplot as plt"
   ]
  },
  {
   "cell_type": "markdown",
   "metadata": {},
   "source": [
    "Here, we will look at returns of the S&P 500 index. To that end, we first need to import price data for the S&P 500 from a csv data file. After doing that in code line 4, we print the head of the data set in code line 5 to see how the data set is structured. We have two columns: A 'Date' column and a 'price' column with the S&P 500's closing price for the respective date. "
   ]
  },
  {
   "cell_type": "code",
   "execution_count": 9,
   "metadata": {},
   "outputs": [
    {
     "data": {
      "text/html": [
       "<div>\n",
       "<style scoped>\n",
       "    .dataframe tbody tr th:only-of-type {\n",
       "        vertical-align: middle;\n",
       "    }\n",
       "\n",
       "    .dataframe tbody tr th {\n",
       "        vertical-align: top;\n",
       "    }\n",
       "\n",
       "    .dataframe thead th {\n",
       "        text-align: right;\n",
       "    }\n",
       "</style>\n",
       "<table border=\"1\" class=\"dataframe\">\n",
       "  <thead>\n",
       "    <tr style=\"text-align: right;\">\n",
       "      <th></th>\n",
       "      <th>Date</th>\n",
       "      <th>price</th>\n",
       "    </tr>\n",
       "  </thead>\n",
       "  <tbody>\n",
       "    <tr>\n",
       "      <th>0</th>\n",
       "      <td>1999-12-31</td>\n",
       "      <td>1469.25</td>\n",
       "    </tr>\n",
       "    <tr>\n",
       "      <th>1</th>\n",
       "      <td>2000-01-03</td>\n",
       "      <td>1455.22</td>\n",
       "    </tr>\n",
       "    <tr>\n",
       "      <th>2</th>\n",
       "      <td>2000-01-04</td>\n",
       "      <td>1399.42</td>\n",
       "    </tr>\n",
       "    <tr>\n",
       "      <th>3</th>\n",
       "      <td>2000-01-05</td>\n",
       "      <td>1402.11</td>\n",
       "    </tr>\n",
       "    <tr>\n",
       "      <th>4</th>\n",
       "      <td>2000-01-06</td>\n",
       "      <td>1403.45</td>\n",
       "    </tr>\n",
       "  </tbody>\n",
       "</table>\n",
       "</div>"
      ],
      "text/plain": [
       "        Date    price\n",
       "0 1999-12-31  1469.25\n",
       "1 2000-01-03  1455.22\n",
       "2 2000-01-04  1399.42\n",
       "3 2000-01-05  1402.11\n",
       "4 2000-01-06  1403.45"
      ]
     },
     "execution_count": 9,
     "metadata": {},
     "output_type": "execute_result"
    }
   ],
   "source": [
    "sp500 = pd.read_csv('sp500.csv', parse_dates = ['Date'])\n",
    "sp500.head()"
   ]
  },
  {
   "cell_type": "markdown",
   "metadata": {},
   "source": [
    "The first step is to compute log returns. Remember the formula for log returns:\n",
    "\n",
    "$$r_t = \\log \\left( \\frac{S_t}{S_{t-1}} \\right) = \\log S_t - \\log S_{t-1}.$$\n",
    "\n",
    "We use the numpy function 'log' to compute the natural logarithm of the observed prices. Also, we use pandas' 'shift' function to shift all prices forward by one period. That way, we can easily handle the one-period time lag between $S_t$ and $S_{t-1}$."
   ]
  },
  {
   "cell_type": "code",
   "execution_count": 12,
   "metadata": {},
   "outputs": [],
   "source": [
    "sp500['logret'] = np.log(sp500['price']) - np.log(sp500['price'].shift())"
   ]
  },
  {
   "cell_type": "markdown",
   "metadata": {},
   "source": [
    "Having thus calculated daily log returns, we now plot their time series. Code lines 7 to 10 create that easy plot for us. As you can see, returns look very noisy over time: Days with positive and negative returns quickly follow each other. Also, their magnitude appears to be changing over time. Return look noisier during the financial crisis 2008-2009 than during the calm period between 2004-2006. Overall, the magnitudes appear realistic, with the largest one-day return around +10% and the smallest one-day return around -10%. This visual test is an important step in identifying data errors: If something does totally not fit to you intuition, it might be a flaw in the data."
   ]
  },
  {
   "cell_type": "code",
   "execution_count": 18,
   "metadata": {},
   "outputs": [
    {
     "data": {
      "image/png": "[encoded data removed]",
      "text/plain": [
       "<Figure size 432x288 with 1 Axes>"
      ]
     },
     "metadata": {},
     "output_type": "display_data"
    }
   ],
   "source": [
    "plt.plot(sp500['Date'], sp500['logret'])\n",
    "plt.xlabel(\"Date\")\n",
    "plt.ylabel(\"S&P500 Daily Log-Return\")\n",
    "plt.show()"
   ]
  },
  {
   "cell_type": "markdown",
   "metadata": {},
   "source": [
    "We continue by computing the daily mean of log returns over time in code line 11. For that, we use the 'np.mean(...)' function. Afterward, we print the result. The average daily S&P 500 return is fairly low, in the order of 0.01% per day."
   ]
  },
  {
   "cell_type": "code",
   "execution_count": 19,
   "metadata": {},
   "outputs": [
    {
     "name": "stdout",
     "output_type": "stream",
     "text": [
      "Daily Mean of Log-Returns:  0.0001361246114135408\n"
     ]
    }
   ],
   "source": [
    "daily_return_mean = np.mean(sp500['logret'])\n",
    "print(\"Daily Mean of Log-Returns: \", daily_return_mean)"
   ]
  },
  {
   "cell_type": "markdown",
   "metadata": {},
   "source": [
    "Next, we calculate the standard deviation of daily returns with the use of the 'np.std(...)' function in code line 13. Again we print the result afterwards. Compared to their average mean, returns have a high standard deviation of around 1.2% per day."
   ]
  },
  {
   "cell_type": "code",
   "execution_count": 24,
   "metadata": {},
   "outputs": [
    {
     "name": "stdout",
     "output_type": "stream",
     "text": [
      "Daily Standard Deviation of Log-Returns:  0.011738696773211085\n"
     ]
    }
   ],
   "source": [
    "daily_return_std = np.std(sp500['logret'])\n",
    "print(\"Daily Standard Deviation of Log-Returns: \", daily_return_std)"
   ]
  },
  {
   "cell_type": "markdown",
   "metadata": {},
   "source": [
    "It is often easier for comparing the return characteristics of different assets to work with yearly numbers. To that end, we *annualize* our daily return statistics. Annualization just assumes that the same statistic (i.e. mean and standard deviation) applies to each return in a year. That way, we can easily calculate the yearly mean return as 252 time the daily mean return. Why 252? Well, there are on average 252 trading days in a year. Code line 15 does that. We can now easily see that the S&P 500 earned an average yearly return of 3.4% during our time frame. That number is much more intuitive and easier to handle than the daily figure."
   ]
  },
  {
   "cell_type": "code",
   "execution_count": 21,
   "metadata": {},
   "outputs": [
    {
     "name": "stdout",
     "output_type": "stream",
     "text": [
      "Annualized Mean of Log-Returns:  0.03430340207621228\n"
     ]
    }
   ],
   "source": [
    "annual_return_mean = daily_return_mean * 252\n",
    "print(\"Annualized Mean of Log-Returns: \", annual_return_mean)"
   ]
  },
  {
   "cell_type": "markdown",
   "metadata": {},
   "source": [
    "We do the same for standard deviation. Remember that standard deviation scales with the root of the time period, though. This means, for annualizing our daily standard deviation figure, we need to multiply it with $\\sqrt{252}$. We do that in code line 17. By using the root, the difference between the daily and the yearly figure is not as large as for the mean. Still, we see that the S&P 500 had an average yearly standard deviation of 18.6% during our sample period."
   ]
  },
  {
   "cell_type": "code",
   "execution_count": 22,
   "metadata": {},
   "outputs": [
    {
     "name": "stdout",
     "output_type": "stream",
     "text": [
      "Annualized Standard Deviation of Log-Returns:  0.18634603426747745\n"
     ]
    }
   ],
   "source": [
    "annual_return_std = daily_return_std * (252**0.5)\n",
    "print(\"Annualized Standard Deviation of Log-Returns: \", annual_return_std)"
   ]
  },
  {
   "cell_type": "markdown",
   "metadata": {},
   "source": [
    "Finally, let's calculate a Sharpe ratio as a measure for the profitability of some investment. The Sharpe ratio is defined as the ratio of the premium above the riskfree rate, that an asset earns, and its volatility:\n",
    "\n",
    "$$SR = \\frac{r - r_f}{\\sigma_r}$$\n",
    "\n",
    "We will just use a riskfree rate of 1% here, which we define in code line 19. We follow the formula above in code line 20 and arrive at a Sharpe ratio of 0.13. This is lower than the long-term average for the S&P 500, which is around 0.4."
   ]
  },
  {
   "cell_type": "code",
   "execution_count": 23,
   "metadata": {},
   "outputs": [
    {
     "name": "stdout",
     "output_type": "stream",
     "text": [
      "Yearly Sharpe Ratio for the S&P 500:  0.1304208172272003\n"
     ]
    }
   ],
   "source": [
    "riskfree_rate = 0.01\n",
    "Sharpe_ratio = (annual_return_mean - riskfree_rate) / annual_return_std\n",
    "print(\"Yearly Sharpe Ratio for the S&P 500: \", Sharpe_ratio)"
   ]
  },
  {
   "cell_type": "code",
   "execution_count": null,
   "metadata": {},
   "outputs": [],
   "source": []
  }
 ],
 "metadata": {
  "kernelspec": {
   "display_name": "Python 3",
   "language": "python",
   "name": "python3"
  },
  "language_info": {
   "codemirror_mode": {
    "name": "ipython",
    "version": 3
   },
   "file_extension": ".py",
   "mimetype": "text/x-python",
   "name": "python",
   "nbconvert_exporter": "python",
   "pygments_lexer": "ipython3",
   "version": "3.8.3"
  }
 },
 "nbformat": 4,
 "nbformat_minor": 4
}
