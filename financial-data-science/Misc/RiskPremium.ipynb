{
 "cells": [
  {
   "cell_type": "markdown",
   "metadata": {},
   "source": [
    "# Task #1: Risk Premium\n",
    "\n",
    "Consider the setting of the last Python work sheet. Write a Python program that computes: (i) Expected Wealth, (ii) Certainty Equivalent, (iii) Risk Premium in Euros and (iv) Risk Premium in percentage terms. Compare these quantities for the two utility specifications of your last Python work sheet. Interpret results in an economically meaningful way. "
   ]
  },
  {
   "cell_type": "code",
   "execution_count": 9,
   "metadata": {},
   "outputs": [],
   "source": [
    "def uf(w, gamma):\n",
    "    if gamma != 1 :\n",
    "        utility = (w**(1-gamma) - 1)/(1-gamma)\n",
    "    else:\n",
    "        utility = np.log(w)\n",
    "    return utility"
   ]
  },
  {
   "cell_type": "code",
   "execution_count": 10,
   "metadata": {},
   "outputs": [],
   "source": [
    "def expected_wealth(wealth1, wealth2, prob1):\n",
    "    ew = wealth1*prob1 + wealth2*(1-prob1)\n",
    "    return ew"
   ]
  },
  {
   "cell_type": "code",
   "execution_count": 11,
   "metadata": {},
   "outputs": [],
   "source": [
    "def uf_inverse(u, gamma):\n",
    "    return (1+(1-gamma)*u)**(1/(1-gamma))"
   ]
  },
  {
   "cell_type": "code",
   "execution_count": 12,
   "metadata": {},
   "outputs": [],
   "source": [
    "def expected_utility(wealth1, wealth2, gamma, prob1):\n",
    "    return prob1*uf(wealth1, gamma) + (1-prob1)*uf(wealth2, gamma)"
   ]
  },
  {
   "cell_type": "code",
   "execution_count": 13,
   "metadata": {},
   "outputs": [],
   "source": [
    "def certainty_equivalent(wealth1, wealth2, gamma, prob1):\n",
    "    eu = expected_utility(wealth1, wealth2, gamma, prob1)\n",
    "    w_ce = uf_inverse(eu, gamma)\n",
    "    return w_ce"
   ]
  },
  {
   "cell_type": "code",
   "execution_count": 28,
   "metadata": {},
   "outputs": [],
   "source": [
    "def risk_premium(wealth1, wealth2, gamma, prob1):\n",
    "    ew = expected_wealth(wealth1, wealth2, prob1) \n",
    "    ce = certainty_equivalent(wealth1, wealth2, gamma, prob1)\n",
    "    return (ew - ce)"
   ]
  },
  {
   "cell_type": "code",
   "execution_count": 29,
   "metadata": {},
   "outputs": [],
   "source": [
    "wealth1 = 1\n",
    "wealth2 = 999_999\n",
    "gamma = 0.5\n",
    "prob1 = 0.5"
   ]
  },
  {
   "cell_type": "code",
   "execution_count": 31,
   "metadata": {},
   "outputs": [
    {
     "name": "stdout",
     "output_type": "stream",
     "text": [
      "Exp Wea: 500000.0\n",
      "Cer Equ: 250499.99974999993\n",
      "Risk Prem: 249500.00025000007\n"
     ]
    }
   ],
   "source": [
    "print(f\"Exp Wea: {expected_wealth(wealth1, wealth2, prob1)}\")\n",
    "print(f\"Cer Equ: {certainty_equivalent(wealth1, wealth2, gamma, prob1)}\")\n",
    "print(f\"Risk Prem: {risk_premium(wealth1, wealth2, gamma, prob1)}\")"
   ]
  },
  {
   "cell_type": "code",
   "execution_count": 32,
   "metadata": {},
   "outputs": [],
   "source": [
    "wealth1 = 1\n",
    "wealth2 = 999_999\n",
    "gamma = 0.8\n",
    "prob1 = 0.5"
   ]
  },
  {
   "cell_type": "code",
   "execution_count": 33,
   "metadata": {},
   "outputs": [
    {
     "name": "stdout",
     "output_type": "stream",
     "text": [
      "Exp Wea: 500000.0\n",
      "Cer Equ: 42433.75759676799\n",
      "Risk Prem: 457566.242403232\n"
     ]
    }
   ],
   "source": [
    "print(f\"Exp Wea: {expected_wealth(wealth1, wealth2, prob1)}\")\n",
    "print(f\"Cer Equ: {certainty_equivalent(wealth1, wealth2, gamma, prob1)}\")\n",
    "print(f\"Risk Prem: {risk_premium(wealth1, wealth2, gamma, prob1)}\")"
   ]
  },
  {
   "cell_type": "markdown",
   "metadata": {},
   "source": [
    "# Task #2: Mean-Variance Approximation\n",
    "\n",
    "Consider the setting of the last Python work sheet. Write a python program that computes the second-oder Taylor approximation of the expected utility function. Plot the exact utility function for a risk aversion of your choice and compare it to the mean-variance approximation."
   ]
  },
  {
   "cell_type": "code",
   "execution_count": null,
   "metadata": {},
   "outputs": [],
   "source": []
  }
 ],
 "metadata": {
  "kernelspec": {
   "display_name": "Python 3",
   "language": "python",
   "name": "python3"
  },
  "language_info": {
   "codemirror_mode": {
    "name": "ipython",
    "version": 3
   },
   "file_extension": ".py",
   "mimetype": "text/x-python",
   "name": "python",
   "nbconvert_exporter": "python",
   "pygments_lexer": "ipython3",
   "version": "3.8.3"
  }
 },
 "nbformat": 4,
 "nbformat_minor": 4
}
