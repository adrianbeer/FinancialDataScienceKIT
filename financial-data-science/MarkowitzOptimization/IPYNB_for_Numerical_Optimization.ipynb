{
 "cells": [
  {
   "cell_type": "markdown",
   "metadata": {},
   "source": [
    "# A. Physical Lecture: Minimum Variance Frontier: Constrained\n",
    "\n"
   ]
  },
  {
   "cell_type": "markdown",
   "metadata": {},
   "source": [
    "## A.1 Set-up\n",
    "\n",
    "An investor considers an investment into three already well diversified exchange traded funds. Asset 1 has an expected return of 3%, a volatility of 4% and pairwise correlations to asset 2 and 3 of 10% and 20%, respectively. Asset 2 has an expected return of 6%, a volatility of 13% and a pairwise correlation with asset 3 of 70%.  Asset 3 has an expected return of 8% and a volatility of 16%.\n",
    "\n",
    "The investor wants to inspect a subset of minimum variance portfolios. The subset of interest must not contain any short sale positions and none of the positions shall make up more than 90% of the investment. "
   ]
  },
  {
   "cell_type": "markdown",
   "metadata": {},
   "source": [
    "## A.2  Code Requirements\n",
    " \n",
    "We need numpy for algebra, scipy.optimize for the numerical optimization and matplotlib for plotting."
   ]
  },
  {
   "cell_type": "code",
   "execution_count": null,
   "metadata": {},
   "outputs": [],
   "source": []
  },
  {
   "cell_type": "markdown",
   "metadata": {},
   "source": [
    "## A.3 Investment Opportunity Set"
   ]
  },
  {
   "cell_type": "code",
   "execution_count": null,
   "metadata": {},
   "outputs": [],
   "source": []
  },
  {
   "cell_type": "markdown",
   "metadata": {},
   "source": [
    "## A.4 Objective Function"
   ]
  },
  {
   "cell_type": "markdown",
   "metadata": {},
   "source": [
    "Now, we define the objective function that the investor wants to opimize. In our application that is the portfolio variance (as a function of the portfolio weights). The objective function needs to return a scalar value.  "
   ]
  },
  {
   "cell_type": "code",
   "execution_count": null,
   "metadata": {},
   "outputs": [],
   "source": [
    "                   \n",
    "    "
   ]
  },
  {
   "cell_type": "markdown",
   "metadata": {},
   "source": [
    "## A.5 Equality Constraints of Optimization Problem"
   ]
  },
  {
   "cell_type": "markdown",
   "metadata": {},
   "source": [
    "Now, we set-up functions for the equality constraints of the optimization problem. \n",
    "\n",
    "We re-write equality constraints of the problem as\n",
    "\n",
    "$$\n",
    "f(x) = 0\n",
    "$$  \n",
    "\n"
   ]
  },
  {
   "cell_type": "markdown",
   "metadata": {},
   "source": [
    "### A.5.1 Full Investment Constraint\n",
    "\n",
    "We start with the full investment constraint"
   ]
  },
  {
   "cell_type": "code",
   "execution_count": null,
   "metadata": {},
   "outputs": [],
   "source": [
    "\n",
    "    "
   ]
  },
  {
   "cell_type": "markdown",
   "metadata": {},
   "source": [
    "### A.5.2 Target Return Constraint\n",
    "\n",
    "We continue with the target portfolio return constraint. \n",
    "\n",
    "Notice: the next line is a quick and dirty way of coding. It is dirty because it uses a \"global variable\", here mu_target, which as of now is not defined. Yet, Python accepts that as it only requires to know that global quantity once it executes the function for the first time"
   ]
  },
  {
   "cell_type": "code",
   "execution_count": null,
   "metadata": {},
   "outputs": [],
   "source": []
  },
  {
   "cell_type": "markdown",
   "metadata": {},
   "source": [
    "## A.6 Starting Value for Parameter Search\n",
    "\n",
    "We set the starting value for the three dimensional parameter space to \n",
    "\n",
    "$$\n",
    "w_0 = [0.4, 0, 0.6].\n",
    "$$\n",
    "\n",
    "Important: Ensure the starting values of an optimization problem fullfill the constraints."
   ]
  },
  {
   "cell_type": "code",
   "execution_count": null,
   "metadata": {},
   "outputs": [],
   "source": []
  },
  {
   "cell_type": "markdown",
   "metadata": {},
   "source": [
    "## A.7 Set Parameter Bounds for Individual Parameters\n",
    "\n",
    "We set the bounds, which coincide with constraints on single parameters, here\n",
    "\n",
    "$$\n",
    "0 \\leq w_j \\leq 0.9\n",
    "$$ "
   ]
  },
  {
   "cell_type": "code",
   "execution_count": null,
   "metadata": {},
   "outputs": [],
   "source": []
  },
  {
   "cell_type": "markdown",
   "metadata": {},
   "source": [
    "## A.8 Set Constraints on a Combination of Parameters\n",
    "\n",
    "We set constraints, which coincide with functions on several parameters. \n",
    "\n",
    "Here, that is the **full investment constraint** and the **target return constraint**. \n",
    "\n",
    "The normed structure follows https://docs.scipy.org/doc/scipy/reference/generated/scipy.optimize.minimize.html\n",
    "\n",
    "In our application, we say to work with 'equality constraints' that are parsed as 'functions'"
   ]
  },
  {
   "cell_type": "code",
   "execution_count": null,
   "metadata": {},
   "outputs": [],
   "source": []
  },
  {
   "cell_type": "markdown",
   "metadata": {},
   "source": [
    "## A.9 Setting Target (Expected) Returns for which we compute the MV-Frontier\n",
    "\n",
    "Now, we define a set of target return for which we want to find the minimum variance portfolio that fullfills the constraints. \n",
    "\n",
    "We set range of target expected returns **(lower bound, increment, upper bound)** for which we seek to find the minimum variance portfolio. \n",
    "\n",
    "Notice, not all target returns can be reached due to the specific constraints. For example, in our current example, an expected portfolio return of 10% is not possible since shorting is not allowed and the highest single asset expected return is 8%. We can easily see that the achievable **lower bound** is \n",
    "\n",
    "$$\n",
    "3.3\\%=0.9 * 3\\% + 0.1 * 6\\%\n",
    "$$\n",
    "\n",
    "and the achievable **upper bound** is\n",
    "\n",
    "$$\n",
    "7.8\\% = 0.9 * 8\\% +0.1 * 6\\%\n",
    "$$\n",
    "\n",
    "This allows us to set natural lower and upper bounds. As to the increments, we work with 10 basis points, i.e.\n",
    "\n",
    "$$\n",
    "incr = 0.1\\%\n",
    "$$\n",
    " "
   ]
  },
  {
   "cell_type": "code",
   "execution_count": null,
   "metadata": {},
   "outputs": [],
   "source": []
  },
  {
   "cell_type": "markdown",
   "metadata": {},
   "source": [
    "## A.10 Computing the Constrained Minimum-Variance Frontier\n",
    "\n",
    "We now loop through all traget returns to find the resulting constrained minimum variance portfolio. We store the portfolio weights in a variable \n",
    "\n",
    "$$\n",
    "\\text{w_cmv},\n",
    "$$\n",
    "\n",
    "the expected returns of the portfolios in\n",
    "\n",
    "$$\n",
    "\\text{mu_cmv},\n",
    "$$\n",
    "\n",
    "and their volatility in\n",
    "\n",
    "$$\n",
    "\\text{sigma_cmv}\n",
    "$$"
   ]
  },
  {
   "cell_type": "code",
   "execution_count": null,
   "metadata": {},
   "outputs": [],
   "source": []
  },
  {
   "cell_type": "markdown",
   "metadata": {},
   "source": [
    "## A.12 Plotting the Constrained Minimum Variance Frontier"
   ]
  },
  {
   "cell_type": "code",
   "execution_count": null,
   "metadata": {
    "scrolled": true
   },
   "outputs": [],
   "source": []
  }
 ],
 "metadata": {
  "kernelspec": {
   "display_name": "Python 3",
   "language": "python",
   "name": "python3"
  },
  "language_info": {
   "codemirror_mode": {
    "name": "ipython",
    "version": 3
   },
   "file_extension": ".py",
   "mimetype": "text/x-python",
   "name": "python",
   "nbconvert_exporter": "python",
   "pygments_lexer": "ipython3",
   "version": "3.8.3"
  }
 },
 "nbformat": 4,
 "nbformat_minor": 4
}
