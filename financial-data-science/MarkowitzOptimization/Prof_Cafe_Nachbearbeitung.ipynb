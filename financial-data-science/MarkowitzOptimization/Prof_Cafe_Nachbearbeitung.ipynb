{
 "cells": [
  {
   "cell_type": "markdown",
   "metadata": {},
   "source": [
    "# A. Physical Lecture: Minimum Variance Frontier: Constrained"
   ]
  },
  {
   "cell_type": "markdown",
   "metadata": {},
   "source": [
    "An investor considers an investment into three already well diversified exchange traded funds. Asset 1 has an expected return of 3%, a volatility of 4% and pairwise correlations to asset 2 and 3 of 10% and 20%, respectively. Asset 2 has an expected return of 6%, a volatility of 13% and a pairwise correlation with asset 3 of 70%.  Asset 3 has an expected return of 8% and a volatility of 16%.\n",
    "\n",
    "The investor wants to inspect a subset of minimum variance portfolios. The subset of interest must not contain any short sale positions and none of the positions shall make up more than 90% of the investment. "
   ]
  },
  {
   "cell_type": "markdown",
   "metadata": {},
   "source": [
    "# Investment Opportunity Set\n",
    "- Expected Returns mu\n",
    "- Covariance Matrix Sigma\n",
    "- Risk-free Rate rf"
   ]
  },
  {
   "cell_type": "code",
   "execution_count": 165,
   "metadata": {},
   "outputs": [],
   "source": [
    "import pandas as pd\n",
    "import numpy as np\n",
    "from scipy.optimize import minimize"
   ]
  },
  {
   "cell_type": "code",
   "execution_count": 166,
   "metadata": {},
   "outputs": [],
   "source": [
    "mu = pd.Series(data=[0.03, 0.06, 0.08], name=r'E[R]')"
   ]
  },
  {
   "cell_type": "code",
   "execution_count": 260,
   "metadata": {},
   "outputs": [],
   "source": [
    "Sigma = np.array([\n",
    "                    [0.04**2,         0.04*0.13*0.1, 0.04*0.16*0.2],\n",
    "                    [0.04*0.13*0.1,  0.13**2,        0.13*0.16*0.7],\n",
    "                    [0.04*0.16*0.2,  0.13*0.16*0.7, 0.16**2]    \n",
    "                    ])"
   ]
  },
  {
   "cell_type": "markdown",
   "metadata": {},
   "source": [
    "# Optimization Problem"
   ]
  },
  {
   "cell_type": "code",
   "execution_count": 261,
   "metadata": {},
   "outputs": [],
   "source": [
    "def volatility(w, Sigma=Sigma):\n",
    "    return (w.T @ Sigma @ w)**0.5"
   ]
  },
  {
   "cell_type": "code",
   "execution_count": 262,
   "metadata": {},
   "outputs": [],
   "source": [
    "def full_investment(w):\n",
    "    return sum(w) - 1"
   ]
  },
  {
   "cell_type": "code",
   "execution_count": 263,
   "metadata": {},
   "outputs": [],
   "source": [
    "def weighting_constraint(w):\n",
    "    return 0.9 - max(w)"
   ]
  },
  {
   "cell_type": "code",
   "execution_count": 264,
   "metadata": {},
   "outputs": [],
   "source": [
    "def short_sale_constraint(w):\n",
    "    return w.min()"
   ]
  },
  {
   "cell_type": "code",
   "execution_count": 265,
   "metadata": {},
   "outputs": [],
   "source": [
    "init = [0.4, 0.3, 0.3]\n",
    "minimum = minimize(fun=variance, x0=init, constraints=[ dict(type='eq', fun=full_investment),\n",
    "                                                        dict(type='ineq', fun=weighting_constraint),\n",
    "                                                        dict(type='ineq', fun=short_sale_constraint),\n",
    "                                                      ])"
   ]
  },
  {
   "cell_type": "code",
   "execution_count": 266,
   "metadata": {},
   "outputs": [],
   "source": [
    "gmv = minimum.x"
   ]
  },
  {
   "cell_type": "code",
   "execution_count": 267,
   "metadata": {},
   "outputs": [
    {
     "data": {
      "text/plain": [
       "0.0394791083992534"
      ]
     },
     "execution_count": 267,
     "metadata": {},
     "output_type": "execute_result"
    }
   ],
   "source": [
    "gmv_variance = volatility(gmv)\n",
    "gmv_variance"
   ]
  },
  {
   "cell_type": "code",
   "execution_count": 268,
   "metadata": {},
   "outputs": [
    {
     "data": {
      "text/plain": [
       "0.033"
      ]
     },
     "execution_count": 268,
     "metadata": {},
     "output_type": "execute_result"
    }
   ],
   "source": [
    "gmv_mu = minimum.x.T @ mu\n",
    "gmv_mu"
   ]
  },
  {
   "cell_type": "markdown",
   "metadata": {},
   "source": [
    "## With target return"
   ]
  },
  {
   "cell_type": "code",
   "execution_count": 269,
   "metadata": {},
   "outputs": [],
   "source": [
    "from functools import partial"
   ]
  },
  {
   "cell_type": "code",
   "execution_count": 270,
   "metadata": {},
   "outputs": [],
   "source": [
    "def target_return_constraint(w, target):\n",
    "    return (w.T @ mu) - target"
   ]
  },
  {
   "cell_type": "code",
   "execution_count": 271,
   "metadata": {},
   "outputs": [],
   "source": [
    "bounds = [(0, 0.9),\n",
    "          (0, 0.9),\n",
    "          (0, 0.9)]"
   ]
  },
  {
   "cell_type": "code",
   "execution_count": 272,
   "metadata": {},
   "outputs": [
    {
     "data": {
      "text/plain": [
       "50"
      ]
     },
     "execution_count": 272,
     "metadata": {},
     "output_type": "execute_result"
    }
   ],
   "source": [
    "mu_LB = 0.033  \n",
    "mu_UB = 0.078\n",
    "target_steps = np.linspace(mu_LB, mu_UB, 50)\n",
    "len(target_steps)"
   ]
  },
  {
   "cell_type": "code",
   "execution_count": 273,
   "metadata": {},
   "outputs": [],
   "source": [
    "init = [0.3, 0.3, 0.4]\n",
    "def mv_minimize(mu_target):\n",
    "    res = minimize(fun=volatility, x0=init, constraints=[ dict(type='eq', fun=full_investment),\n",
    "                                                          dict(type='eq', fun=partial(target_return_constraint, target=mu_target)),\n",
    "                                                      ],\n",
    "                  bounds=bounds)\n",
    "    return res"
   ]
  },
  {
   "cell_type": "code",
   "execution_count": 274,
   "metadata": {},
   "outputs": [],
   "source": [
    "volas = np.zeros(50)\n",
    "mus = np.zeros(50)"
   ]
  },
  {
   "cell_type": "code",
   "execution_count": 275,
   "metadata": {},
   "outputs": [],
   "source": [
    "for i, mu_target in enumerate(target_steps):\n",
    "    res = mv_minimize(mu_target)\n",
    "    std = volatility(res.x)\n",
    "    volas[i] = std\n",
    "    ER = res.x.T @ mu\n",
    "    assert ER - mu_target < 0.01\n",
    "    mus[i] = ER"
   ]
  },
  {
   "cell_type": "code",
   "execution_count": 276,
   "metadata": {},
   "outputs": [
    {
     "data": {
      "text/plain": [
       "0    0.03\n",
       "1    0.06\n",
       "2    0.08\n",
       "Name: E[R], dtype: float64"
      ]
     },
     "execution_count": 276,
     "metadata": {},
     "output_type": "execute_result"
    }
   ],
   "source": [
    "mu"
   ]
  },
  {
   "cell_type": "markdown",
   "metadata": {},
   "source": [
    "# Plotting results"
   ]
  },
  {
   "cell_type": "code",
   "execution_count": 277,
   "metadata": {},
   "outputs": [],
   "source": [
    "import matplotlib.pyplot as plt"
   ]
  },
  {
   "cell_type": "code",
   "execution_count": 278,
   "metadata": {},
   "outputs": [
    {
     "data": {
      "text/plain": [
       "Text(0.5, 0, '$\\\\sigma^2$')"
      ]
     },
     "execution_count": 278,
     "metadata": {},
     "output_type": "execute_result"
    },
    {
     "data": {
      "image/png": "[encoded data removed]",
      "text/plain": [
       "<Figure size 432x288 with 1 Axes>"
      ]
     },
     "metadata": {
      "needs_background": "light"
     },
     "output_type": "display_data"
    }
   ],
   "source": [
    "plt.scatter(volas, mus)\n",
    "plt.scatter(np.diag(Sigma)**0.5, mu)\n",
    "plt.scatter(gmv_variance, gmv_mu)\n",
    "plt.ylabel(r'$\\mu$')\n",
    "plt.xlabel(r'$\\sigma^2$')"
   ]
  },
  {
   "cell_type": "code",
   "execution_count": 279,
   "metadata": {},
   "outputs": [
    {
     "data": {
      "text/plain": [
       "array([0.0517    , 0.05516168, 0.06933827, 0.07418296, 0.07914739,\n",
       "       0.08397688, 0.08867142, 0.09323102, 0.09765568, 0.10194539,\n",
       "       0.10610016, 0.11011998, 0.11400486, 0.1177548 , 0.1213698 ,\n",
       "       0.12484985, 0.12819495, 0.13140511, 0.13448033, 0.13742061,\n",
       "       0.14022594, 0.14289633, 0.14543177, 0.14783227, 0.15009783,\n",
       "       0.15222844, 0.15422411, 0.15608483, 0.15781061, 0.15940145,\n",
       "       0.16085734, 0.16217829, 0.1633643 , 0.16441536, 0.16533148,\n",
       "       0.16611265, 0.16675888, 0.16727017, 0.16764651, 0.16788791,\n",
       "       0.16799437, 0.16796588, 0.16780245, 0.16750407, 0.16707075,\n",
       "       0.16650249, 0.1734429 , 0.20131816, 0.22913719, 0.2569    ])"
      ]
     },
     "execution_count": 279,
     "metadata": {},
     "output_type": "execute_result"
    }
   ],
   "source": [
    "variances"
   ]
  },
  {
   "cell_type": "code",
   "execution_count": null,
   "metadata": {},
   "outputs": [],
   "source": []
  }
 ],
 "metadata": {
  "kernelspec": {
   "display_name": "Python 3",
   "language": "python",
   "name": "python3"
  },
  "language_info": {
   "codemirror_mode": {
    "name": "ipython",
    "version": 3
   },
   "file_extension": ".py",
   "mimetype": "text/x-python",
   "name": "python",
   "nbconvert_exporter": "python",
   "pygments_lexer": "ipython3",
   "version": "3.8.3"
  }
 },
 "nbformat": 4,
 "nbformat_minor": 4
}
