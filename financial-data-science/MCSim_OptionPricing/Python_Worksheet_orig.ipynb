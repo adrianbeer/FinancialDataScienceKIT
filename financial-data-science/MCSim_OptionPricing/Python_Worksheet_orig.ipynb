{
 "cells": [
  {
   "cell_type": "markdown",
   "metadata": {},
   "source": [
    "# Goal: Monte Carlo Simulation, applied to  Option Pricing"
   ]
  },
  {
   "cell_type": "markdown",
   "metadata": {},
   "source": [
    "## Hey, Python techies!!"
   ]
  },
  {
   "cell_type": "markdown",
   "metadata": {},
   "source": [
    "Our BSc course on Financial Data Science is time constrained. There is no time to teach option pricing. Yet, we can take a realistic parametrization of a stock return and simulate it to learn about diffusive risks and jump risks. The latter is also called crash risks or non-Gaussian discretionary moves. \n",
    "\n",
    "Prof. Merton, a Nobel Laureate in Economics, and industrial engineer by training, described stock returns to follow a mix of a Gaussian distribution and a Poisson distribution. The Gaussian distribution captures the normal randomness in stock returns. The infrequent, yet, dramatic up and down jumps in stock returns are modelled by a Poisson shock. Prof. Merton derived the price of an option on such a realistic stock return dynamic. That derivation, among other work, was reason to award him with a Nobel Prize in Economics. It also created a new field called \"financial engineering\". Financial data science benefits from the last thirty years of option pricing. I reveal some of these during an upcoming Masters course on Financial Machine Learning. Yet, for the moment, I want to use Merton's parametrization of stock returns to show you how much you have already learned in this course.\n",
    "\n",
    "\n",
    "Our battle plan is as follows: First I quickly introduce Merton's Jump-Diffusion Model. Second, we code a function in Python that simulates the Merton’s Stock Price Process. Third, we code a Python function for a payoff of a call and put option. Fourth, we code a Python function that determines the price of that call and put contract. That pricing relies on simulating the density of future stock prices. "
   ]
  },
  {
   "cell_type": "markdown",
   "metadata": {},
   "source": [
    "First, I tell you which packages you need"
   ]
  },
  {
   "cell_type": "code",
   "execution_count": 1,
   "metadata": {},
   "outputs": [],
   "source": [
    "# Import packages for econometric analysis\n",
    "\n",
    "import numpy as np\n",
    "import pandas as pd\n",
    "\n",
    "# Load plotting library\n",
    "\n",
    "import matplotlib\n",
    "import matplotlib.pyplot as plt\n",
    "matplotlib.style.use('ggplot')\n",
    "\n",
    "#set the seed\n",
    "np.random.seed(123)"
   ]
  },
  {
   "cell_type": "markdown",
   "metadata": {},
   "source": [
    "Prof Merton introduced stochastic calculus to financial economics. This follows the tradition of Albert Einstein to model randomness across time by means of an ordinary differential equation plus noise (= stochastic differential equation). An upcoming MSc course on Financial Machine learning offers an introduction to that. For this BSc course, I will do the calculus for you and provide you with the probability density function that Prof. Merton worked with. Intuitively, the density has a diffusive component called $Z_1$ and a jump component called $K$. $Z_1$ follows a standard normal distribution. $K$ follows a Poisson distribution with intensity factor $\\lambda$. For a definition of a Possion distribution see https://en.wikipedia.org/wiki/Poisson_distribution. The standard deviation of the diffusive shock is  $\\sigma \\sqrt{T}$. It is also assumed that once a jump happens, the resulting return is drawn from another Gaussian shock $Z_2$. $Z_2$ is a standard normal shock which is independent of $Z_1$. The standard deviation of the jump shock is termed $b\\sqrt{KT}$, where $b$  is the standard deviation of the jump size distribution and $K$ is the random draw of the above mentioned Poisson distriubtion that counts the number of random return jumps per year. \n",
    "\n",
    "The resulting description of the continuously compounded stock return for the holding period $0$ to $T$ reads:\n",
    "\n",
    "\\begin{equation}\n",
    "    \\ln \\frac{S_T}{S_0} = (r - \\lambda a - 0.5 \\sigma^2) T + \\sigma \\sqrt{T} Z_1 + a K T + b \\sqrt{K T} Z_2\n",
    "\\end{equation}\n",
    "\n",
    "where $S_T$ is the price of a stock at time $T$, $r$ is the short-term risk-free rate, $\\lambda$ is the expected number of jumps per year, $a$ is the expected return impact of a jump, $0.5 \\sigma^2$ is a convexity adjustment (as we work with log returns), $\\sigma \\sqrt{T} Z_1 \\sim N(0, \\sigma^2 T)$ is the diffusive return shock, $aKT + b\\sqrt{KT} Z_2|_{K} \\sim N(aKT, b^2 KT)$, conditional on knowing the realized value of $K$, captures the return innovation due to $K$ realized price jumps between the time points $0$ and $T$. Notice, that $K$ itself is a draw from a Poisson distribution, $K \\sim Pois(\\lambda)$ where you can treat $\\lambda$ as the expected number of jumps per year. \n",
    "\n",
    "The stock price is\n",
    "\n",
    "$$\n",
    "S_T = S_0 \\times e^{\\ln \\frac{S_T}{S_0}}\n",
    "$$\n",
    "\n",
    "which says\n",
    "\n",
    "$$\n",
    "S_T = S_0 \\times e^{ (r - \\lambda a - 0.5 \\sigma^2) T + \\sigma \\sqrt{T} Z_1 + a K T + b \\sqrt{K T} Z_2   }\n",
    "$$\n",
    "\n",
    "Note: you might have wondered correctly, why there is no risk premium on top of the risk-free rate. That question is spot on. For now, I simply assumed it to be zero. That is not a realistic assumption, yet, for my simulation task it would only affect the expected value of $S_T$. The reason why I assumed it zero here, is that in order to explain it accurately, I would have to teach you the logic behind option pricing, which relies on either hedging arguments or some basic measure theory. I will do so in the MSc course on Financial Machine Learning. For now, simply think about a stock with a zero equity risk premium."
   ]
  },
  {
   "cell_type": "markdown",
   "metadata": {},
   "source": [
    "First, we write a Python function that simulates $S_t$ from $t=0$ to $t=T$.  The function is called \"simulateJumpDiffusion\". The input to the function is\n",
    "- m: number of paths\n",
    "- S_0: stock price in $t=0$\n",
    "- r: short term risk free rate\n",
    "- lam: $\\lambda$, is the expected number of jumps per year (i.e. intensity of Poisson distriubtion)\n",
    "- sig: standard deviation of diffusive shock\n",
    "- T: future time point for which we want to know what the stock price will be worth\n",
    "- a: expected magnitude of a crash induced return\n",
    "- b: standard deviation of a crash inducued return shock\n",
    "\n",
    "The output to the function are $m$ draws of future $S_T$'s, where the data generating process for $S_T$ follows the above mentioned Merton Jump Diffusion Model.\n",
    " "
   ]
  },
  {
   "cell_type": "markdown",
   "metadata": {},
   "source": [
    "**Complete the code:**"
   ]
  },
  {
   "cell_type": "code",
   "execution_count": 2,
   "metadata": {},
   "outputs": [
    {
     "ename": "SyntaxError",
     "evalue": "invalid syntax (<ipython-input-2-5db7e55bd715>, line 1)",
     "output_type": "error",
     "traceback": [
      "\u001b[0;36m  File \u001b[0;32m\"<ipython-input-2-5db7e55bd715>\"\u001b[0;36m, line \u001b[0;32m1\u001b[0m\n\u001b[0;31m    def simulateJumpDiffusion(...):\u001b[0m\n\u001b[0m                                ^\u001b[0m\n\u001b[0;31mSyntaxError\u001b[0m\u001b[0;31m:\u001b[0m invalid syntax\n"
     ]
    }
   ],
   "source": [
    "#def simulateJumpDiffusion(...):\n",
    "#    ...\n",
    "#    \n",
    "#    return ...\n",
    " "
   ]
  },
  {
   "cell_type": "markdown",
   "metadata": {},
   "source": [
    "Second, we assume a more experienced financial data scientist used machine learning tools to learn the parameters of the Jump Diffusion Model. The respective parameters are\n",
    "\n",
    "r = 0.04, $\\lambda = 2$, $\\sigma = 0.5$, $a=0.1$, $b=0.2$. Further assume the last observed stock price ($S_0$) was 120 euros. Further assume, you want to simulate the stock price over the next quarter, which means $T=0.25$. Also, assume, you simulate $S_T$ for $m=1000000$ paths.\n",
    "\n",
    "Some intuition: the risk-free rate is 4\\%, there are an expected 2 jumps per year, the annual standard deviation of the diffusive shock is 50\\%, the expected jump magnitude (per jump) is 10\\% with a standard deviation of 20\\%. Note, in the Merton model, jumps can be positive and negative. More recent parameterizations focus on negative jumps in prices and positive jumps in volatility. We analyze this point in the MSc course on Financial Machine Learning.\n",
    "\n",
    "Some more intuition: You wonder whether it is realistic to expect 2 jumps per year with each coming along with an expected gain of 10\\% and a standard deviation of 20\\%. Let me tell you that these numbers incorporate investor's priced-in risk premium. It relates to my explanations on the Gordon Growth model, yet, it is slightly more delicate. A precise explanation of that mechanism will be offered in the MSc course on Financial Machine Learning. For now, it suffices to realize that the parameters $\\lambda$, $a$, $b$ are adjusted by risk premium (which is the result of investor's risk aversion)."
   ]
  },
  {
   "cell_type": "markdown",
   "metadata": {},
   "source": [
    "**Complete the code:**"
   ]
  },
  {
   "cell_type": "code",
   "execution_count": 3,
   "metadata": {},
   "outputs": [],
   "source": [
    "#m =    # number of paths in simulation\n",
    "#S_0 = \n",
    "#r =  \n",
    "#lam =  \n",
    "#sig = \n",
    "#T =  \n",
    "#a =  \n",
    "#b =  "
   ]
  },
  {
   "cell_type": "markdown",
   "metadata": {},
   "source": [
    "Third, lets simulate $S_T$ given the above parametrization and save the output in the variable $s_1$. "
   ]
  },
  {
   "cell_type": "markdown",
   "metadata": {},
   "source": [
    "**Complete the code:**"
   ]
  },
  {
   "cell_type": "code",
   "execution_count": 4,
   "metadata": {},
   "outputs": [],
   "source": [
    "#s1 = simulateJumpDiffusion(...)"
   ]
  },
  {
   "cell_type": "markdown",
   "metadata": {},
   "source": [
    "Fourth, lets double check that the expected stock price in one quarter from now is 122.54 euros, \n",
    "\n",
    "$$\n",
    "E_0[S_T] = 122.54 \\, \\text{EUR}\n",
    "$$"
   ]
  },
  {
   "cell_type": "markdown",
   "metadata": {},
   "source": [
    "**Complete the code:**"
   ]
  },
  {
   "cell_type": "code",
   "execution_count": 5,
   "metadata": {},
   "outputs": [
    {
     "data": {
      "text/plain": [
       "122.54011617922914"
      ]
     },
     "execution_count": 5,
     "metadata": {},
     "output_type": "execute_result"
    }
   ],
   "source": [
    "#E_s1 = np.mean(s1)\n",
    "#print(E_s1)"
   ]
  },
  {
   "cell_type": "markdown",
   "metadata": {},
   "source": [
    "Fourth, to gain some intuition about jumps in returns, we compare the DGP of Merton to a log-normally distributed stock price. \n",
    "\n",
    "A log normally distributed stock price takes the DGP\n",
    "\n",
    "$$\n",
    "S_T = S_0 \\times e^{ (r -  0.5 \\sigma^2) T + \\sigma \\sqrt{T} Z_1}. \n",
    "$$\n",
    "                    \n",
    "In that case you have\n",
    "\n",
    "$$\n",
    "\\ln \\frac{S_T}{S_0} \\sim N( (r - 0.5 \\sigma^2 )T, \\, \\sigma^2 T ).\n",
    "$$\n",
    "\n",
    "Black and Scholes earned themselves a Nobel Prize in Economics for deriving the price of a call and put on a stock that follows a log normal distribution. \n",
    "\n",
    "In comparison to the Merton parametrization, the log normal distriubtion is a special case with $\\lambda = a = b = 0$."
   ]
  },
  {
   "cell_type": "markdown",
   "metadata": {},
   "source": [
    "Fifth, hence, we now re-apply the simulateJumpDiffusion funtion to find the distriubtion of $S_T|\\mathcal{F}_0$, assuming the stock price follows a log-normal distribution, and save the output at $s_2$."
   ]
  },
  {
   "cell_type": "markdown",
   "metadata": {},
   "source": [
    "**Complete the code:**"
   ]
  },
  {
   "cell_type": "code",
   "execution_count": 6,
   "metadata": {},
   "outputs": [],
   "source": [
    "#s2 = simulateJumpDiffusion(...)"
   ]
  },
  {
   "cell_type": "markdown",
   "metadata": {},
   "source": [
    "Sixth, we check that the expected stock price under the log-normal model would be\n",
    "\n",
    "$$\n",
    "E_0[S_T] = 121.18 \\; \\text{EUR}\n",
    "$$"
   ]
  },
  {
   "cell_type": "markdown",
   "metadata": {},
   "source": [
    "**Complete the code:**"
   ]
  },
  {
   "cell_type": "code",
   "execution_count": 7,
   "metadata": {},
   "outputs": [
    {
     "data": {
      "text/plain": [
       "121.18193352680903"
      ]
     },
     "execution_count": 7,
     "metadata": {},
     "output_type": "execute_result"
    }
   ],
   "source": [
    "#E_s2 = np.mean(s2)\n",
    "#print(E_s2)"
   ]
  },
  {
   "cell_type": "markdown",
   "metadata": {},
   "source": [
    "Seventh, we now visualize the simulated probability density function of the log-normal and the Merton (log-normal plus jumps) parametrization of stock returns. \n",
    "\n",
    "We rely on the histogram function of our plotting library, using 1000 bins, histtype=\"stepfilled\", density=True."
   ]
  },
  {
   "cell_type": "markdown",
   "metadata": {},
   "source": [
    "**Complete the code:**"
   ]
  },
  {
   "cell_type": "code",
   "execution_count": 8,
   "metadata": {},
   "outputs": [
    {
     "data": {
      "text/plain": [
       "<matplotlib.legend.Legend at 0x7fa339649e90>"
      ]
     },
     "execution_count": 8,
     "metadata": {},
     "output_type": "execute_result"
    },
    {
     "data": {
      "image/png": "[encoded data removed]",
      "text/plain": [
       "<Figure size 432x288 with 1 Axes>"
      ]
     },
     "metadata": {},
     "output_type": "display_data"
    }
   ],
   "source": [
    "#plt.figure(1)\n",
    "#plt.hist(...) "
   ]
  },
  {
   "cell_type": "markdown",
   "metadata": {},
   "source": [
    "Eigth, I now show you how a financial data scientist can estimate the value of options that are written on $S_T$.\n",
    "\n",
    "In a nutshell, a European call (put) option gives the holder the RIGHT to buy (sell) the underlying stock at time $T$ for a prespecified price $X$. Note, $X$ is called \"exercise price\" or \"strike\". Both X and $T$ are set and known at time $t=0$ and kept constant throughout the life of the option. \n",
    "\n",
    "Notice, if $S_T > X$, a holder of a call option would exerice the option at $T$ and get the stock for a price of $X$. He could instantly sell it in the market for $S_T$ and pocket the postive gain of $S_T - X$. On the other hand, the holder of the put option would not exercise the put option as he/she could sell the stock for $S_T > X$. \n",
    "\n",
    "On the other hand, if $S_T < X$, the holder of a put option would exercise the RIGHT to sell the stock for $X$, while buying it in the (so called) spot market (equity market) for $S_T$. The spread of $X - S_T$ would be the profit at time $T$ for the investor who exercises the put option.\n",
    "\n",
    "In sum, the payoff at time $T$ of a call option is\n",
    "\n",
    "$$\n",
    "C_T = max(S_T - X, 0)\n",
    "$$\n",
    "\n",
    "while the payoff at time $T$ of a put option is\n",
    "\n",
    "$$\n",
    "P_T = max(X-S_T, 0).\n",
    "$$\n",
    "\n",
    "In order to find the price at $t<T$, one applies the net present value logic (as in Gordon Growth model) to get\n",
    "\n",
    "$$\n",
    "C_t \\; \\text{and} \\; P_t.\n",
    "$$\n",
    "\n",
    "Simplistically speaking, and only for intuition purpose, I am writing it as\n",
    "\n",
    "$$\n",
    "C_0 = E_0\\left[\\frac{max(S_T - X, 0)}{(1 + DR_T)^T}\\right]\n",
    "$$\n",
    "\n",
    "and\n",
    "\n",
    "$$\n",
    "P_0 = E_0\\left[\\frac{max(X - S_T, 0)}{(1 + DR_T)^T}\\right].\n",
    "$$\n",
    "\n",
    "A precise derivation of $C_0$ and $P_0$, including all financial economic and financial mathematic insights, will be offered during the MSc course on Financial Machine Learning.\n",
    "\n",
    "$$\n",
    "\\\\\n",
    "$$\n",
    "\n",
    "For now, we are going to find $C_0$ and $P_0$ using Monte-Carlo Simulation. The logic is as follows: Above, we have simulated $m$ maths of $S_T|\\mathcal{F}_0$. Now, we simply compute the resulting payoff of a call and put option if a particular $S_T$ gets realized. For the discount rate, we discount by the risk-free rate only. Again, a precise explanation of why in that case we only discount by $r$ will be offered in the MSc course on Financial Machine Learning. As we use continuously compounding in the exercise, our discount rate will be\n",
    "\n",
    "$$\n",
    "(1 + DR_T)^T = exp(r*T)\n",
    "$$"
   ]
  },
  {
   "cell_type": "markdown",
   "metadata": {},
   "source": [
    "Ninth, we now compute the Python function mcCallPrice. It takes as input all possible (based on the simulation) $S_T|\\mathcal{F}_0$, the risk-free discount rate $r$, time to maturity of the option contract $T$ and the exercise price of the option, called $X$. The output of the function is $C_0$. Hint: in order to get the expectation, you compute the mean of the payout across all $m$ paths."
   ]
  },
  {
   "cell_type": "markdown",
   "metadata": {},
   "source": [
    "**Complete the code:**"
   ]
  },
  {
   "cell_type": "code",
   "execution_count": 9,
   "metadata": {},
   "outputs": [],
   "source": [
    "#def mcCallPrice(...):\n",
    "#   ...\n",
    "#   return ... "
   ]
  },
  {
   "cell_type": "markdown",
   "metadata": {},
   "source": [
    "Tenth, we repeat the last step and compute a Python function mcPutPrice."
   ]
  },
  {
   "cell_type": "markdown",
   "metadata": {},
   "source": [
    "**Complete the code:**"
   ]
  },
  {
   "cell_type": "code",
   "execution_count": 10,
   "metadata": {},
   "outputs": [],
   "source": [
    "#def mcPutPrice(...):\n",
    "#   ...\n",
    "#   return ..."
   ]
  },
  {
   "cell_type": "markdown",
   "metadata": {},
   "source": [
    "Eleventh, now we price a so called at-the-money option with maturity $T>0.25yrs$. I define here an at-the-money option as having $X=S_0$.\n",
    "\n",
    "We compute the $C_0$ and $P_0$ for both, the log-normal and the Merton parametrization for the stock price. The price of the former gets the index 1, the price of the latter gets the index 2."
   ]
  },
  {
   "cell_type": "markdown",
   "metadata": {},
   "source": [
    "**Complete the code:**"
   ]
  },
  {
   "cell_type": "code",
   "execution_count": 11,
   "metadata": {},
   "outputs": [],
   "source": [
    "#X =  "
   ]
  },
  {
   "cell_type": "code",
   "execution_count": 12,
   "metadata": {},
   "outputs": [],
   "source": [
    "#c1 = mcCallPrice(...) #jump diffusion call\n",
    "#c2 = mcCallPrice(...) #log normal call"
   ]
  },
  {
   "cell_type": "code",
   "execution_count": 13,
   "metadata": {},
   "outputs": [],
   "source": [
    "#p1  = mcPutPrice(...) #jump diffusion put\n",
    "#p2  = mcPutPrice(...) #log normal put"
   ]
  },
  {
   "cell_type": "markdown",
   "metadata": {},
   "source": [
    "Twelveth, we check that the at-the-money call price  is\n",
    "\n",
    "$$\n",
    "C_0 = 15.12 \\qquad \\text{if jumps in returns}\n",
    "$$\n",
    "\n",
    "and \n",
    "\n",
    "$$\n",
    "C_0 = 12.47 \\qquad  \\text{if no jumps in returns}\n",
    "$$\n"
   ]
  },
  {
   "cell_type": "code",
   "execution_count": 14,
   "metadata": {},
   "outputs": [
    {
     "data": {
      "text/plain": [
       "15.122005529562074"
      ]
     },
     "execution_count": 14,
     "metadata": {},
     "output_type": "execute_result"
    }
   ],
   "source": [
    "c1"
   ]
  },
  {
   "cell_type": "code",
   "execution_count": 15,
   "metadata": {},
   "outputs": [
    {
     "data": {
      "text/plain": [
       "12.47021870104024"
      ]
     },
     "execution_count": 15,
     "metadata": {},
     "output_type": "execute_result"
    }
   ],
   "source": [
    "c2"
   ]
  },
  {
   "cell_type": "markdown",
   "metadata": {},
   "source": [
    "Thirteenth, we check that the at-the-money put price is\n",
    "\n",
    "$$\n",
    "P_0 = 12.61 \\qquad \\text{if jumps in returns}\n",
    "$$\n",
    "\n",
    "and \n",
    "\n",
    "$$\n",
    "P_0 = 11.30 \\qquad  \\text{if no jumps in returns}\n",
    "$$\n"
   ]
  },
  {
   "cell_type": "code",
   "execution_count": 16,
   "metadata": {},
   "outputs": [
    {
     "data": {
      "text/plain": [
       "12.607163928612737"
      ]
     },
     "execution_count": 16,
     "metadata": {},
     "output_type": "execute_result"
    }
   ],
   "source": [
    "p1"
   ]
  },
  {
   "cell_type": "code",
   "execution_count": 17,
   "metadata": {},
   "outputs": [
    {
     "data": {
      "text/plain": [
       "11.300045609320392"
      ]
     },
     "execution_count": 17,
     "metadata": {},
     "output_type": "execute_result"
    }
   ],
   "source": [
    "p2"
   ]
  },
  {
   "cell_type": "markdown",
   "metadata": {},
   "source": [
    "Fourteenth, note that the spread in call prices is larger than the spread in put prices. The reason for that is visible in the histogram of $S_T|\\mathcal{F}_0$. In the current simulation, the jumps create move probability mass on the right part of the tail. Call options benefit from that, which explains why the call price increases over proportionally if returns can jump. Note, this result can change as you change the parametrization. \n",
    "\n",
    "As a last learning point, neither the seed nor the number of simulation paths should change the price of calls and puts. If they do, you have not used enough paths in the simulation, hence, increase them."
   ]
  },
  {
   "cell_type": "code",
   "execution_count": null,
   "metadata": {},
   "outputs": [],
   "source": []
  }
 ],
 "metadata": {
  "kernelspec": {
   "display_name": "Python 3",
   "language": "python",
   "name": "python3"
  },
  "language_info": {
   "codemirror_mode": {
    "name": "ipython",
    "version": 3
   },
   "file_extension": ".py",
   "mimetype": "text/x-python",
   "name": "python",
   "nbconvert_exporter": "python",
   "pygments_lexer": "ipython3",
   "version": "3.8.3"
  }
 },
 "nbformat": 4,
 "nbformat_minor": 4
}
