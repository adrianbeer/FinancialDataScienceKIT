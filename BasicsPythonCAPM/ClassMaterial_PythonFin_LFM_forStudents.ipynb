{
 "cells": [
  {
   "cell_type": "markdown",
   "metadata": {},
   "source": [
    "# F. Python for Financial Data Analysis\n",
    "\n",
    "# F.1 How to run a CAPM regression."
   ]
  },
  {
   "cell_type": "markdown",
   "metadata": {},
   "source": [
    "The CAPM postulates a linear relationship between the expected excess return of a single stock and the market-wide equity risk premium:\n",
    "\n",
    "$$E[r_A] - r_f = \\beta_A (E[r_M] - r_f).$$\n",
    "\n",
    "Given time series observations of stock returns, the returns of a broad stock index and the riskfree rate, we can estimate the $\\beta_A$ parameter via the following linear regression:\n",
    "\n",
    "$$r_{t,A} - r_{t,f} = \\alpha_A + \\beta_A (r_{t,M} - r_{t,f}) + \\epsilon_{t,A}.$$\n",
    "\n",
    "The $t$ index now indicates the point of time of a certain return observation and $\\alpha_A$ is added to capture any potential biases from the postulated linear relationship.\n",
    "\n",
    "In the following, we will estimate the CAPM for the stock of Microsoft.\n"
   ]
  },
  {
   "cell_type": "markdown",
   "metadata": {},
   "source": [
    "We start by importing the usual packages. In addition, we import the 'statsmodels' package in code line 3 to run the linear regression later on."
   ]
  },
  {
   "cell_type": "code",
   "execution_count": 1,
   "metadata": {},
   "outputs": [
    {
     "name": "stderr",
     "output_type": "stream",
     "text": [
      "C:\\Users\\Adria\\Programme\\anaconda3\\lib\\site-packages\\statsmodels\\tsa\\base\\tsa_model.py:7: FutureWarning: pandas.Int64Index is deprecated and will be removed from pandas in a future version. Use pandas.Index with the appropriate dtype instead.\n",
      "  from pandas import (to_datetime, Int64Index, DatetimeIndex, Period,\n",
      "C:\\Users\\Adria\\Programme\\anaconda3\\lib\\site-packages\\statsmodels\\tsa\\base\\tsa_model.py:7: FutureWarning: pandas.Float64Index is deprecated and will be removed from pandas in a future version. Use pandas.Index with the appropriate dtype instead.\n",
      "  from pandas import (to_datetime, Int64Index, DatetimeIndex, Period,\n"
     ]
    }
   ],
   "source": [
    "import pandas as pd\n",
    "import numpy as np\n",
    "import statsmodels.api as sm\n",
    "import matplotlib.pyplot as plt"
   ]
  },
  {
   "cell_type": "markdown",
   "metadata": {},
   "source": [
    "We read in the data from a csv file in code line 5 and calculate simple returns as $r_t = \\frac{S_t - S_{t-1}}{S_{t-1}}$ in code lines 6 and 7. Note, in other applications, you might want to use continuously compounded returns. For now, it suffices to take any type of return and to know that you can translate one into the other."
   ]
  },
  {
   "cell_type": "code",
   "execution_count": 2,
   "metadata": {},
   "outputs": [],
   "source": [
    "data = pd.read_csv('data.csv', parse_dates = ['Date'])\n",
    "\n",
    "data['MSFT_Ret'] = (data['Close_msft'] - data['Close_msft'].shift(1)) / data['Close_msft'].shift(1)\n",
    "data['SP500_Ret'] = (data['Close_sp500'] - data['Close_sp500'].shift(1)) / data['Close_sp500'].shift(1)"
   ]
  },
  {
   "cell_type": "markdown",
   "metadata": {},
   "source": [
    "We use T-Bill rates as a proxy for the riskfree rate. They are given in yearly percentage terms, so we need to scale them appropriately. We translate them from precentage figures to actual numbers by dividing the given rates by 100 and scale them to the daily horizon by dividing further by the number of trading days in a year."
   ]
  },
  {
   "cell_type": "code",
   "execution_count": 3,
   "metadata": {
    "scrolled": true
   },
   "outputs": [
    {
     "data": {
      "text/html": [
       "<div>\n",
       "<style scoped>\n",
       "    .dataframe tbody tr th:only-of-type {\n",
       "        vertical-align: middle;\n",
       "    }\n",
       "\n",
       "    .dataframe tbody tr th {\n",
       "        vertical-align: top;\n",
       "    }\n",
       "\n",
       "    .dataframe thead th {\n",
       "        text-align: right;\n",
       "    }\n",
       "</style>\n",
       "<table border=\"1\" class=\"dataframe\">\n",
       "  <thead>\n",
       "    <tr style=\"text-align: right;\">\n",
       "      <th></th>\n",
       "      <th>Date</th>\n",
       "      <th>Close_sp500</th>\n",
       "      <th>Close_tbill</th>\n",
       "      <th>Close_msft</th>\n",
       "      <th>MSFT_Ret</th>\n",
       "      <th>SP500_Ret</th>\n",
       "      <th>Tbill_daily</th>\n",
       "    </tr>\n",
       "  </thead>\n",
       "  <tbody>\n",
       "    <tr>\n",
       "      <th>0</th>\n",
       "      <td>1993-11-01</td>\n",
       "      <td>469.10</td>\n",
       "      <td>3.06</td>\n",
       "      <td>2.52</td>\n",
       "      <td>NaN</td>\n",
       "      <td>NaN</td>\n",
       "      <td>0.000121</td>\n",
       "    </tr>\n",
       "    <tr>\n",
       "      <th>1</th>\n",
       "      <td>1993-11-02</td>\n",
       "      <td>468.44</td>\n",
       "      <td>3.12</td>\n",
       "      <td>2.50</td>\n",
       "      <td>-0.007937</td>\n",
       "      <td>-0.001407</td>\n",
       "      <td>0.000124</td>\n",
       "    </tr>\n",
       "    <tr>\n",
       "      <th>2</th>\n",
       "      <td>1993-11-03</td>\n",
       "      <td>463.02</td>\n",
       "      <td>3.08</td>\n",
       "      <td>2.45</td>\n",
       "      <td>-0.020000</td>\n",
       "      <td>-0.011570</td>\n",
       "      <td>0.000122</td>\n",
       "    </tr>\n",
       "    <tr>\n",
       "      <th>3</th>\n",
       "      <td>1993-11-04</td>\n",
       "      <td>457.49</td>\n",
       "      <td>3.07</td>\n",
       "      <td>2.38</td>\n",
       "      <td>-0.028571</td>\n",
       "      <td>-0.011943</td>\n",
       "      <td>0.000122</td>\n",
       "    </tr>\n",
       "    <tr>\n",
       "      <th>4</th>\n",
       "      <td>1993-11-05</td>\n",
       "      <td>459.57</td>\n",
       "      <td>3.07</td>\n",
       "      <td>2.45</td>\n",
       "      <td>0.029412</td>\n",
       "      <td>0.004547</td>\n",
       "      <td>0.000122</td>\n",
       "    </tr>\n",
       "  </tbody>\n",
       "</table>\n",
       "</div>"
      ],
      "text/plain": [
       "        Date  Close_sp500  Close_tbill  Close_msft  MSFT_Ret  SP500_Ret  \\\n",
       "0 1993-11-01       469.10         3.06        2.52       NaN        NaN   \n",
       "1 1993-11-02       468.44         3.12        2.50 -0.007937  -0.001407   \n",
       "2 1993-11-03       463.02         3.08        2.45 -0.020000  -0.011570   \n",
       "3 1993-11-04       457.49         3.07        2.38 -0.028571  -0.011943   \n",
       "4 1993-11-05       459.57         3.07        2.45  0.029412   0.004547   \n",
       "\n",
       "   Tbill_daily  \n",
       "0     0.000121  \n",
       "1     0.000124  \n",
       "2     0.000122  \n",
       "3     0.000122  \n",
       "4     0.000122  "
      ]
     },
     "execution_count": 3,
     "metadata": {},
     "output_type": "execute_result"
    }
   ],
   "source": [
    "data['Tbill_daily'] = data['Close_tbill'] / (100 * 252)\n",
    "data.head()"
   ]
  },
  {
   "cell_type": "markdown",
   "metadata": {},
   "source": [
    "After the return calculation, the very first returns are NaN. This is because we do not know the price before the first price in our data sample. We drop all rows with NaN values in code line 10. This way, the NaNs will not cause problems in the further calculations."
   ]
  },
  {
   "cell_type": "code",
   "execution_count": 4,
   "metadata": {},
   "outputs": [
    {
     "data": {
      "text/html": [
       "<div>\n",
       "<style scoped>\n",
       "    .dataframe tbody tr th:only-of-type {\n",
       "        vertical-align: middle;\n",
       "    }\n",
       "\n",
       "    .dataframe tbody tr th {\n",
       "        vertical-align: top;\n",
       "    }\n",
       "\n",
       "    .dataframe thead th {\n",
       "        text-align: right;\n",
       "    }\n",
       "</style>\n",
       "<table border=\"1\" class=\"dataframe\">\n",
       "  <thead>\n",
       "    <tr style=\"text-align: right;\">\n",
       "      <th></th>\n",
       "      <th>Date</th>\n",
       "      <th>Close_sp500</th>\n",
       "      <th>Close_tbill</th>\n",
       "      <th>Close_msft</th>\n",
       "      <th>MSFT_Ret</th>\n",
       "      <th>SP500_Ret</th>\n",
       "      <th>Tbill_daily</th>\n",
       "    </tr>\n",
       "  </thead>\n",
       "  <tbody>\n",
       "    <tr>\n",
       "      <th>1</th>\n",
       "      <td>1993-11-02</td>\n",
       "      <td>468.44</td>\n",
       "      <td>3.12</td>\n",
       "      <td>2.50</td>\n",
       "      <td>-0.007937</td>\n",
       "      <td>-0.001407</td>\n",
       "      <td>0.000124</td>\n",
       "    </tr>\n",
       "    <tr>\n",
       "      <th>2</th>\n",
       "      <td>1993-11-03</td>\n",
       "      <td>463.02</td>\n",
       "      <td>3.08</td>\n",
       "      <td>2.45</td>\n",
       "      <td>-0.020000</td>\n",
       "      <td>-0.011570</td>\n",
       "      <td>0.000122</td>\n",
       "    </tr>\n",
       "    <tr>\n",
       "      <th>3</th>\n",
       "      <td>1993-11-04</td>\n",
       "      <td>457.49</td>\n",
       "      <td>3.07</td>\n",
       "      <td>2.38</td>\n",
       "      <td>-0.028571</td>\n",
       "      <td>-0.011943</td>\n",
       "      <td>0.000122</td>\n",
       "    </tr>\n",
       "    <tr>\n",
       "      <th>4</th>\n",
       "      <td>1993-11-05</td>\n",
       "      <td>459.57</td>\n",
       "      <td>3.07</td>\n",
       "      <td>2.45</td>\n",
       "      <td>0.029412</td>\n",
       "      <td>0.004547</td>\n",
       "      <td>0.000122</td>\n",
       "    </tr>\n",
       "    <tr>\n",
       "      <th>5</th>\n",
       "      <td>1993-11-08</td>\n",
       "      <td>460.21</td>\n",
       "      <td>3.06</td>\n",
       "      <td>2.45</td>\n",
       "      <td>0.000000</td>\n",
       "      <td>0.001393</td>\n",
       "      <td>0.000121</td>\n",
       "    </tr>\n",
       "  </tbody>\n",
       "</table>\n",
       "</div>"
      ],
      "text/plain": [
       "        Date  Close_sp500  Close_tbill  Close_msft  MSFT_Ret  SP500_Ret  \\\n",
       "1 1993-11-02       468.44         3.12        2.50 -0.007937  -0.001407   \n",
       "2 1993-11-03       463.02         3.08        2.45 -0.020000  -0.011570   \n",
       "3 1993-11-04       457.49         3.07        2.38 -0.028571  -0.011943   \n",
       "4 1993-11-05       459.57         3.07        2.45  0.029412   0.004547   \n",
       "5 1993-11-08       460.21         3.06        2.45  0.000000   0.001393   \n",
       "\n",
       "   Tbill_daily  \n",
       "1     0.000124  \n",
       "2     0.000122  \n",
       "3     0.000122  \n",
       "4     0.000122  \n",
       "5     0.000121  "
      ]
     },
     "execution_count": 4,
     "metadata": {},
     "output_type": "execute_result"
    }
   ],
   "source": [
    "data = data.dropna()\n",
    "data.head()"
   ]
  },
  {
   "cell_type": "markdown",
   "metadata": {},
   "source": [
    "Next, we calculate excess returns for Microsoft and the S&P 500 in code lines 12 and 13."
   ]
  },
  {
   "cell_type": "code",
   "execution_count": 5,
   "metadata": {},
   "outputs": [],
   "source": [
    "data['MSFT_Ex_Ret'] = data['MSFT_Ret'] - data['Tbill_daily']\n",
    "data['SP500_Ex_Ret'] = data['SP500_Ret'] - data['Tbill_daily']"
   ]
  },
  {
   "cell_type": "markdown",
   "metadata": {},
   "source": [
    "We now estimate the linear CAPM relationship using OLS. Printing the result summary gives us the estimate for Microsoft's beta coefficient, which is 1.248."
   ]
  },
  {
   "cell_type": "code",
   "execution_count": 6,
   "metadata": {},
   "outputs": [
    {
     "name": "stdout",
     "output_type": "stream",
     "text": [
      "                            OLS Regression Results                            \n",
      "==============================================================================\n",
      "Dep. Variable:                      y   R-squared:                       0.345\n",
      "Model:                            OLS   Adj. R-squared:                  0.344\n",
      "Method:                 Least Squares   F-statistic:                     1241.\n",
      "Date:                Fri, 22 Apr 2022   Prob (F-statistic):          7.87e-219\n",
      "Time:                        19:52:00   Log-Likelihood:                 5902.4\n",
      "No. Observations:                2362   AIC:                        -1.180e+04\n",
      "Df Residuals:                    2360   BIC:                        -1.179e+04\n",
      "Df Model:                           1                                         \n",
      "Covariance Type:            nonrobust                                         \n",
      "==============================================================================\n",
      "                 coef    std err          t      P>|t|      [0.025      0.975]\n",
      "------------------------------------------------------------------------------\n",
      "const          0.0009      0.000      2.234      0.026       0.000       0.002\n",
      "x1             1.2480      0.035     35.229      0.000       1.179       1.317\n",
      "==============================================================================\n",
      "Omnibus:                      290.276   Durbin-Watson:                   2.018\n",
      "Prob(Omnibus):                  0.000   Jarque-Bera (JB):             3074.488\n",
      "Skew:                          -0.033   Prob(JB):                         0.00\n",
      "Kurtosis:                       8.589   Cond. No.                         86.6\n",
      "==============================================================================\n",
      "\n",
      "Notes:\n",
      "[1] Standard Errors assume that the covariance matrix of the errors is correctly specified.\n"
     ]
    }
   ],
   "source": [
    "Y = data['MSFT_Ex_Ret'].values\n",
    "X = data['SP500_Ex_Ret'].values\n",
    "X = sm.add_constant(X)\n",
    "model = sm.OLS(Y, X)\n",
    "model_fit = model.fit()\n",
    "print(model_fit.summary())"
   ]
  },
  {
   "cell_type": "markdown",
   "metadata": {},
   "source": [
    "The parameter estimates of the OLS estimation can also be accessed via the 'params' attribute of the OLS result object."
   ]
  },
  {
   "cell_type": "code",
   "execution_count": 7,
   "metadata": {},
   "outputs": [
    {
     "data": {
      "text/plain": [
       "array([9.14284709e-04, 1.24797878e+00])"
      ]
     },
     "execution_count": 7,
     "metadata": {},
     "output_type": "execute_result"
    }
   ],
   "source": [
    "model_fit.params"
   ]
  },
  {
   "cell_type": "markdown",
   "metadata": {},
   "source": [
    "We end this demonstration with a graphical representation of the CAPM. The following code plots all return observations in a scatter plot and adds the estimated linear CAPM relationship."
   ]
  },
  {
   "cell_type": "code",
   "execution_count": 8,
   "metadata": {},
   "outputs": [
    {
     "data": {
      "image/png": "[encoded data removed]",
      "text/plain": [
       "<Figure size 432x288 with 1 Axes>"
      ]
     },
     "metadata": {
      "needs_background": "light"
     },
     "output_type": "display_data"
    }
   ],
   "source": [
    "plt.figure(6)\n",
    "plt.scatter(data['SP500_Ex_Ret'], data['MSFT_Ex_Ret'], s = 1)\n",
    "x = np.linspace(data['SP500_Ex_Ret'].min(), data['SP500_Ex_Ret'].max())\n",
    "plt.plot(x, model_fit.params[0] + model_fit.params[1] * x, 'r', lw=2)\n",
    "plt.grid(True)\n",
    "plt.axis('tight')\n",
    "plt.xlabel('S&P500 Excess Returns')\n",
    "plt.ylabel('MSFT Excess Returns')\n",
    "plt.show()"
   ]
  },
  {
   "cell_type": "code",
   "execution_count": null,
   "metadata": {},
   "outputs": [],
   "source": []
  },
  {
   "cell_type": "markdown",
   "metadata": {},
   "source": [
    "## F.2 Fama-French 3-Factor Model"
   ]
  },
  {
   "cell_type": "markdown",
   "metadata": {},
   "source": [
    "I show you how to perform a linear regression of portfolio returns on the famous Fama French 3 Factor Model."
   ]
  },
  {
   "cell_type": "markdown",
   "metadata": {},
   "source": [
    "Remember, additionally to the excess market return factor known from the CAPM, the Fama-French 3 Factor Model adds two additional factors, namely a \"SMB\" (small minus big) market capitalization factor and a \"HML\" (high minus low) book-to-market ratio factor.\n",
    "\n",
    "The equation reads as\n",
    "\n",
    "$$r_t - r_f = \\alpha + \\beta_1 \\times f_t^{MER} + \\beta_2 \\times f_t^{SMB} + \\beta_3 \\times f_t^{HML} + \\epsilon_t$$\n",
    "\n",
    "We will work with daily returns of an industry portfolio (Technology) and the Fama-French factors MER, SMB and HML covering the period from summer 1926 to summer 2015.\n",
    "\n",
    "The Fama-French factors will be extracted by an OLS linear regression, as already known from the CAPM."
   ]
  },
  {
   "cell_type": "code",
   "execution_count": 9,
   "metadata": {},
   "outputs": [],
   "source": [
    "import pandas as pd"
   ]
  },
  {
   "cell_type": "markdown",
   "metadata": {},
   "source": [
    "Next, we read in the Fama-French 3 Factor data (1926-2015) from the provided csv file:"
   ]
  },
  {
   "cell_type": "code",
   "execution_count": 10,
   "metadata": {},
   "outputs": [
    {
     "data": {
      "text/html": [
       "<div>\n",
       "<style scoped>\n",
       "    .dataframe tbody tr th:only-of-type {\n",
       "        vertical-align: middle;\n",
       "    }\n",
       "\n",
       "    .dataframe tbody tr th {\n",
       "        vertical-align: top;\n",
       "    }\n",
       "\n",
       "    .dataframe thead th {\n",
       "        text-align: right;\n",
       "    }\n",
       "</style>\n",
       "<table border=\"1\" class=\"dataframe\">\n",
       "  <thead>\n",
       "    <tr style=\"text-align: right;\">\n",
       "      <th></th>\n",
       "      <th>MER</th>\n",
       "      <th>SMB</th>\n",
       "      <th>HML</th>\n",
       "      <th>RF</th>\n",
       "    </tr>\n",
       "    <tr>\n",
       "      <th>Date</th>\n",
       "      <th></th>\n",
       "      <th></th>\n",
       "      <th></th>\n",
       "      <th></th>\n",
       "    </tr>\n",
       "  </thead>\n",
       "  <tbody>\n",
       "    <tr>\n",
       "      <th>1926-07-01</th>\n",
       "      <td>0.10</td>\n",
       "      <td>-0.24</td>\n",
       "      <td>-0.28</td>\n",
       "      <td>0.009</td>\n",
       "    </tr>\n",
       "    <tr>\n",
       "      <th>1926-07-02</th>\n",
       "      <td>0.45</td>\n",
       "      <td>-0.32</td>\n",
       "      <td>-0.08</td>\n",
       "      <td>0.009</td>\n",
       "    </tr>\n",
       "    <tr>\n",
       "      <th>1926-07-06</th>\n",
       "      <td>0.17</td>\n",
       "      <td>0.27</td>\n",
       "      <td>-0.35</td>\n",
       "      <td>0.009</td>\n",
       "    </tr>\n",
       "    <tr>\n",
       "      <th>1926-07-07</th>\n",
       "      <td>0.09</td>\n",
       "      <td>-0.59</td>\n",
       "      <td>0.03</td>\n",
       "      <td>0.009</td>\n",
       "    </tr>\n",
       "    <tr>\n",
       "      <th>1926-07-08</th>\n",
       "      <td>0.21</td>\n",
       "      <td>-0.36</td>\n",
       "      <td>0.15</td>\n",
       "      <td>0.009</td>\n",
       "    </tr>\n",
       "  </tbody>\n",
       "</table>\n",
       "</div>"
      ],
      "text/plain": [
       "             MER   SMB   HML     RF\n",
       "Date                               \n",
       "1926-07-01  0.10 -0.24 -0.28  0.009\n",
       "1926-07-02  0.45 -0.32 -0.08  0.009\n",
       "1926-07-06  0.17  0.27 -0.35  0.009\n",
       "1926-07-07  0.09 -0.59  0.03  0.009\n",
       "1926-07-08  0.21 -0.36  0.15  0.009"
      ]
     },
     "execution_count": 10,
     "metadata": {},
     "output_type": "execute_result"
    }
   ],
   "source": [
    "ff3 = pd.read_csv('ff3.csv')\n",
    "ff3['Date'] = pd.to_datetime(ff3['Date'], format = '%Y%m%d')\n",
    "ff3.set_index('Date', inplace=True)\n",
    "ff3.head()"
   ]
  },
  {
   "cell_type": "markdown",
   "metadata": {},
   "source": [
    "We do the same for the daily returns of the industry portfolios, which we want to explain by our Fama french factor model:"
   ]
  },
  {
   "cell_type": "code",
   "execution_count": 11,
   "metadata": {},
   "outputs": [
    {
     "data": {
      "text/html": [
       "<div>\n",
       "<style scoped>\n",
       "    .dataframe tbody tr th:only-of-type {\n",
       "        vertical-align: middle;\n",
       "    }\n",
       "\n",
       "    .dataframe tbody tr th {\n",
       "        vertical-align: top;\n",
       "    }\n",
       "\n",
       "    .dataframe thead th {\n",
       "        text-align: right;\n",
       "    }\n",
       "</style>\n",
       "<table border=\"1\" class=\"dataframe\">\n",
       "  <thead>\n",
       "    <tr style=\"text-align: right;\">\n",
       "      <th></th>\n",
       "      <th>Cnsmr</th>\n",
       "      <th>Manuf</th>\n",
       "      <th>HiTec</th>\n",
       "      <th>Hlth</th>\n",
       "      <th>Other</th>\n",
       "    </tr>\n",
       "    <tr>\n",
       "      <th>Date</th>\n",
       "      <th></th>\n",
       "      <th></th>\n",
       "      <th></th>\n",
       "      <th></th>\n",
       "      <th></th>\n",
       "    </tr>\n",
       "  </thead>\n",
       "  <tbody>\n",
       "    <tr>\n",
       "      <th>1926-07-01</th>\n",
       "      <td>-0.08</td>\n",
       "      <td>0.22</td>\n",
       "      <td>-0.11</td>\n",
       "      <td>0.97</td>\n",
       "      <td>0.21</td>\n",
       "    </tr>\n",
       "    <tr>\n",
       "      <th>1926-07-02</th>\n",
       "      <td>0.46</td>\n",
       "      <td>0.69</td>\n",
       "      <td>0.31</td>\n",
       "      <td>0.13</td>\n",
       "      <td>0.11</td>\n",
       "    </tr>\n",
       "    <tr>\n",
       "      <th>1926-07-06</th>\n",
       "      <td>0.27</td>\n",
       "      <td>0.28</td>\n",
       "      <td>0.32</td>\n",
       "      <td>0.23</td>\n",
       "      <td>-0.19</td>\n",
       "    </tr>\n",
       "    <tr>\n",
       "      <th>1926-07-07</th>\n",
       "      <td>-0.01</td>\n",
       "      <td>0.11</td>\n",
       "      <td>0.12</td>\n",
       "      <td>0.33</td>\n",
       "      <td>0.15</td>\n",
       "    </tr>\n",
       "    <tr>\n",
       "      <th>1926-07-08</th>\n",
       "      <td>0.24</td>\n",
       "      <td>0.09</td>\n",
       "      <td>0.38</td>\n",
       "      <td>0.91</td>\n",
       "      <td>0.39</td>\n",
       "    </tr>\n",
       "  </tbody>\n",
       "</table>\n",
       "</div>"
      ],
      "text/plain": [
       "            Cnsmr  Manuf  HiTec  Hlth   Other\n",
       "Date                                         \n",
       "1926-07-01  -0.08   0.22  -0.11   0.97   0.21\n",
       "1926-07-02   0.46   0.69   0.31   0.13   0.11\n",
       "1926-07-06   0.27   0.28   0.32   0.23  -0.19\n",
       "1926-07-07  -0.01   0.11   0.12   0.33   0.15\n",
       "1926-07-08   0.24   0.09   0.38   0.91   0.39"
      ]
     },
     "execution_count": 11,
     "metadata": {},
     "output_type": "execute_result"
    }
   ],
   "source": [
    "indus5 = pd.read_csv('indus5.csv')\n",
    "indus5['Date'] = pd.to_datetime(indus5['Date'], format = '%Y%m%d')\n",
    "indus5.set_index('Date', inplace=True)\n",
    "indus5.head()"
   ]
  },
  {
   "cell_type": "markdown",
   "metadata": {},
   "source": [
    "We subtract the risk-free rate to create excess returns"
   ]
  },
  {
   "cell_type": "markdown",
   "metadata": {},
   "source": [
    "Finally, we can start with the regression analysis! We are going to use the statsmodels package with its Formula API, which we first need to import:"
   ]
  },
  {
   "cell_type": "code",
   "execution_count": 12,
   "metadata": {},
   "outputs": [],
   "source": [
    "import statsmodels.formula.api as smf"
   ]
  },
  {
   "cell_type": "markdown",
   "metadata": {},
   "source": [
    "Now we can specify how our regression formula shall look like. Remember, we want to explain the excess return of $HiTec$ by the three factors $MER$, $SMB$, $HML$. Also, we add a regression constant to capture the alpha.\n",
    "\n",
    "As our data is organized in two dataframes, we join the two data sources on the Date column."
   ]
  },
  {
   "cell_type": "code",
   "execution_count": 13,
   "metadata": {},
   "outputs": [],
   "source": [
    "model = smf.ols('HiTec-RF ~ 1 + MER + SMB + HML', data = ff3.join(indus5))"
   ]
  },
  {
   "cell_type": "markdown",
   "metadata": {},
   "source": [
    "By calling the .fit() function of the model specification, we run the OLS regression:"
   ]
  },
  {
   "cell_type": "code",
   "execution_count": 14,
   "metadata": {},
   "outputs": [],
   "source": [
    "result = model.fit()"
   ]
  },
  {
   "cell_type": "markdown",
   "metadata": {},
   "source": [
    "We have a look at the results:"
   ]
  },
  {
   "cell_type": "code",
   "execution_count": 15,
   "metadata": {},
   "outputs": [
    {
     "name": "stdout",
     "output_type": "stream",
     "text": [
      "                  Results: Ordinary least squares\n",
      "===================================================================\n",
      "Model:              OLS              Adj. R-squared:     0.857     \n",
      "Dependent Variable: HiTec            AIC:                29099.8719\n",
      "Date:               2022-04-22 19:52 BIC:                29132.1362\n",
      "No. Observations:   23531            Log-Likelihood:     -14546.   \n",
      "Df Model:           3                F-statistic:        4.698e+04 \n",
      "Df Residuals:       23527            Prob (F-statistic): 0.00      \n",
      "R-squared:          0.857            Scale:              0.20162   \n",
      "--------------------------------------------------------------------\n",
      "                Coef.   Std.Err.     t      P>|t|    [0.025   0.975]\n",
      "--------------------------------------------------------------------\n",
      "Intercept       0.0190    0.0029    6.4963  0.0000   0.0133   0.0248\n",
      "MER             1.0320    0.0028  367.3346  0.0000   1.0265   1.0375\n",
      "SMB            -0.0773    0.0051  -15.2175  0.0000  -0.0873  -0.0674\n",
      "HML            -0.3575    0.0051  -70.2792  0.0000  -0.3675  -0.3475\n",
      "-------------------------------------------------------------------\n",
      "Omnibus:             4051.340      Durbin-Watson:         1.909    \n",
      "Prob(Omnibus):       0.000         Jarque-Bera (JB):      67808.804\n",
      "Skew:                0.322         Prob(JB):              0.000    \n",
      "Kurtosis:            11.291        Condition No.:         2        \n",
      "===================================================================\n",
      "\n"
     ]
    }
   ],
   "source": [
    "print(result.summary2())"
   ]
  },
  {
   "cell_type": "markdown",
   "metadata": {},
   "source": [
    "We can see that the FF3F factor model indeed is able to capture the variation in returns very well with an $R^2 = 0.857$! Also, all of our three factors have significant loadings as the t-values are greater than 3.\n",
    "\n",
    "Our portfolio was overperforming compared to the market with a significant alpha of $1.9\\%$ per year!"
   ]
  },
  {
   "cell_type": "code",
   "execution_count": null,
   "metadata": {},
   "outputs": [],
   "source": []
  }
 ],
 "metadata": {
  "kernelspec": {
   "display_name": "Python 3 (ipykernel)",
   "language": "python",
   "name": "python3"
  },
  "language_info": {
   "codemirror_mode": {
    "name": "ipython",
    "version": 3
   },
   "file_extension": ".py",
   "mimetype": "text/x-python",
   "name": "python",
   "nbconvert_exporter": "python",
   "pygments_lexer": "ipython3",
   "version": "3.8.8"
  }
 },
 "nbformat": 4,
 "nbformat_minor": 4
}
