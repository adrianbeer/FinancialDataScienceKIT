{
 "cells": [
  {
   "cell_type": "code",
   "execution_count": 12,
   "metadata": {},
   "outputs": [],
   "source": [
    "import pandas as pd\n",
    "import statsmodels.api as sm\n",
    "import numpy as np\n",
    "from matplotlib import pyplot as plt"
   ]
  },
  {
   "cell_type": "markdown",
   "metadata": {},
   "source": [
    "# Task 1: CAPM - Object-Oriented\n",
    "\n",
    "Write a class called \"CAPM\". The members of the class are: alpha, beta, t-stat of alpha, t-stat of beta, adjusted R^2. The member function \"fit_SML(.)\" uses the GLS package of the statsmodels to fit the CAPM SML and to pin down alpha, beta, t-stat of alpha, t-stat of beta, adjusted R^2. Also, store the regression package's summary table as a private member of the CAPM class. Let member function \"display_Regression_Table(.)\" print out the regression summary table.\n",
    "\n",
    "Test your class on an asset of your choice. How much of the asset's risk is diversifiable and how much is systematatic? Did the asset earn a significant alpha? How large has been the annualized Sharpe Ratio? Compare the average realized return with the SML-implied expected return."
   ]
  },
  {
   "cell_type": "code",
   "execution_count": 34,
   "metadata": {},
   "outputs": [],
   "source": [
    "class CAPM:\n",
    "    \n",
    "    def __init__(self):\n",
    "        self.alpha = None\n",
    "        self.beta = None\n",
    "        self.t_stat_of_alpha = None\n",
    "        self.t_stat_of_beta = None\n",
    "        self.ajd_r_squared = None\n",
    "        \n",
    "    def fit_SML(self, excess_log_returns_A, excess_log_returns_M):\n",
    "        res_fit = sm.GLS(endog=excess_log_returns_A, exog=sm.add_constant(excess_log_returns_M)).fit()        \n",
    "        self._summary = res_fit.summary()\n",
    "        alpha_A, beta_A = res_fit.params.values\n",
    "        t_alpha_A, t_beta_A = res_fit.tvalues.values\n",
    "        res_fit.rsquared_adj\n",
    "        \n",
    "    def display_Regression_Table(self):\n",
    "        print(self._summary)\n",
    "        "
   ]
  },
  {
   "cell_type": "markdown",
   "metadata": {},
   "source": [
    "# ------------- Data Preparation ---------------"
   ]
  },
  {
   "cell_type": "code",
   "execution_count": 14,
   "metadata": {},
   "outputs": [
    {
     "data": {
      "text/plain": [
       "(4279,)"
      ]
     },
     "execution_count": 14,
     "metadata": {},
     "output_type": "execute_result"
    }
   ],
   "source": [
    "# Risk-free rate\n",
    "# ---------------\n",
    "\n",
    "r_f_ann = pd.read_csv(\"ps5_checker/riskfree.csv\", index_col=0, squeeze=True)\n",
    "r_f_ann.shape"
   ]
  },
  {
   "cell_type": "code",
   "execution_count": 15,
   "metadata": {},
   "outputs": [],
   "source": [
    "r_f = r_f_ann / 252"
   ]
  },
  {
   "cell_type": "code",
   "execution_count": 16,
   "metadata": {},
   "outputs": [
    {
     "data": {
      "text/plain": [
       "(4279,)"
      ]
     },
     "execution_count": 16,
     "metadata": {},
     "output_type": "execute_result"
    }
   ],
   "source": [
    "# Asset returns\n",
    "# -------------\n",
    "\n",
    "r_A = pd.read_csv(\"ps5_checker/apple.csv\", index_col=0, squeeze=True)\n",
    "r_A.shape"
   ]
  },
  {
   "cell_type": "code",
   "execution_count": 17,
   "metadata": {},
   "outputs": [],
   "source": [
    "# Are the shifts correct this way ?\n",
    "def get_excess_log_returns(r_i, r_f):\n",
    "    log_returns_i = np.log(r_i) - np.log(r_i.shift(1))\n",
    "\n",
    "    excess_log_returns_i = log_returns_i.shift(-1) - r_f\n",
    "\n",
    "    return excess_log_returns_i"
   ]
  },
  {
   "cell_type": "code",
   "execution_count": 18,
   "metadata": {},
   "outputs": [],
   "source": [
    "excess_log_returns_A = get_excess_log_returns(r_A, r_f).dropna()"
   ]
  },
  {
   "cell_type": "code",
   "execution_count": 19,
   "metadata": {},
   "outputs": [
    {
     "data": {
      "text/plain": [
       "(4279,)"
      ]
     },
     "execution_count": 19,
     "metadata": {},
     "output_type": "execute_result"
    }
   ],
   "source": [
    "# Market returns\n",
    "# --------------\n",
    "\n",
    "r_M = pd.read_csv(\"ps5_checker/sp500.csv\", index_col=0, squeeze=True)\n",
    "r_M.shape"
   ]
  },
  {
   "cell_type": "code",
   "execution_count": 20,
   "metadata": {},
   "outputs": [],
   "source": [
    "excess_log_returns_M = get_excess_log_returns(r_M, r_f).dropna()"
   ]
  },
  {
   "cell_type": "code",
   "execution_count": null,
   "metadata": {},
   "outputs": [],
   "source": []
  },
  {
   "cell_type": "markdown",
   "metadata": {},
   "source": [
    "# ----------- Fitting ------------ "
   ]
  },
  {
   "cell_type": "code",
   "execution_count": 21,
   "metadata": {},
   "outputs": [],
   "source": [
    "res_fit = sm.GLS(endog=excess_log_returns_A, exog=sm.add_constant(excess_log_returns_M)).fit()"
   ]
  },
  {
   "cell_type": "code",
   "execution_count": 22,
   "metadata": {},
   "outputs": [
    {
     "data": {
      "text/plain": [
       "const    0.001109\n",
       "0        1.052089\n",
       "dtype: float64"
      ]
     },
     "execution_count": 22,
     "metadata": {},
     "output_type": "execute_result"
    }
   ],
   "source": [
    "alpha_A, beta_A = res_fit.params.values\n",
    "res_fit.params"
   ]
  },
  {
   "cell_type": "code",
   "execution_count": 23,
   "metadata": {},
   "outputs": [
    {
     "data": {
      "text/plain": [
       "const     4.273225\n",
       "0        49.606861\n",
       "dtype: float64"
      ]
     },
     "execution_count": 23,
     "metadata": {},
     "output_type": "execute_result"
    }
   ],
   "source": [
    "t_alpha_A, t_beta_A = res_fit.tvalues.values\n",
    "res_fit.tvalues"
   ]
  },
  {
   "cell_type": "code",
   "execution_count": 24,
   "metadata": {},
   "outputs": [
    {
     "data": {
      "text/plain": [
       "0.3651326723919738"
      ]
     },
     "execution_count": 24,
     "metadata": {},
     "output_type": "execute_result"
    }
   ],
   "source": [
    "res_fit.rsquared_adj"
   ]
  },
  {
   "cell_type": "code",
   "execution_count": 25,
   "metadata": {},
   "outputs": [
    {
     "data": {
      "text/plain": [
       "Text(0, 0.5, '$E[r_A] - r_f$')"
      ]
     },
     "execution_count": 25,
     "metadata": {},
     "output_type": "execute_result"
    },
    {
     "data": {
      "image/png": "[encoded data removed]",
      "text/plain": [
       "<Figure size 432x288 with 1 Axes>"
      ]
     },
     "metadata": {
      "needs_background": "light"
     },
     "output_type": "display_data"
    }
   ],
   "source": [
    "plt.scatter(excess_log_returns_M, excess_log_returns_A)\n",
    "plt.plot(excess_log_returns_M, alpha_A + beta_A*excess_log_returns_M, color='red')\n",
    "plt.xlabel(r'$E[r_M] - r_f$')\n",
    "plt.ylabel(r'$E[r_A] - r_f$')"
   ]
  },
  {
   "cell_type": "code",
   "execution_count": 26,
   "metadata": {},
   "outputs": [
    {
     "data": {
      "text/html": [
       "<table class=\"simpletable\">\n",
       "<caption>GLS Regression Results</caption>\n",
       "<tr>\n",
       "  <th>Dep. Variable:</th>            <td>y</td>        <th>  R-squared:         </th>  <td>   0.365</td> \n",
       "</tr>\n",
       "<tr>\n",
       "  <th>Model:</th>                   <td>GLS</td>       <th>  Adj. R-squared:    </th>  <td>   0.365</td> \n",
       "</tr>\n",
       "<tr>\n",
       "  <th>Method:</th>             <td>Least Squares</td>  <th>  F-statistic:       </th>  <td>   2461.</td> \n",
       "</tr>\n",
       "<tr>\n",
       "  <th>Date:</th>             <td>Fri, 07 May 2021</td> <th>  Prob (F-statistic):</th>   <td>  0.00</td>  \n",
       "</tr>\n",
       "<tr>\n",
       "  <th>Time:</th>                 <td>10:26:51</td>     <th>  Log-Likelihood:    </th>  <td>  11367.</td> \n",
       "</tr>\n",
       "<tr>\n",
       "  <th>No. Observations:</th>      <td>  4278</td>      <th>  AIC:               </th> <td>-2.273e+04</td>\n",
       "</tr>\n",
       "<tr>\n",
       "  <th>Df Residuals:</th>          <td>  4276</td>      <th>  BIC:               </th> <td>-2.272e+04</td>\n",
       "</tr>\n",
       "<tr>\n",
       "  <th>Df Model:</th>              <td>     1</td>      <th>                     </th>      <td> </td>    \n",
       "</tr>\n",
       "<tr>\n",
       "  <th>Covariance Type:</th>      <td>nonrobust</td>    <th>                     </th>      <td> </td>    \n",
       "</tr>\n",
       "</table>\n",
       "<table class=\"simpletable\">\n",
       "<tr>\n",
       "    <td></td>       <th>coef</th>     <th>std err</th>      <th>t</th>      <th>P>|t|</th>  <th>[0.025</th>    <th>0.975]</th>  \n",
       "</tr>\n",
       "<tr>\n",
       "  <th>const</th> <td>    0.0011</td> <td>    0.000</td> <td>    4.273</td> <td> 0.000</td> <td>    0.001</td> <td>    0.002</td>\n",
       "</tr>\n",
       "<tr>\n",
       "  <th>0</th>     <td>    1.0521</td> <td>    0.021</td> <td>   49.607</td> <td> 0.000</td> <td>    1.011</td> <td>    1.094</td>\n",
       "</tr>\n",
       "</table>\n",
       "<table class=\"simpletable\">\n",
       "<tr>\n",
       "  <th>Omnibus:</th>       <td>742.583</td> <th>  Durbin-Watson:     </th> <td>   1.930</td> \n",
       "</tr>\n",
       "<tr>\n",
       "  <th>Prob(Omnibus):</th> <td> 0.000</td>  <th>  Jarque-Bera (JB):  </th> <td>10477.356</td>\n",
       "</tr>\n",
       "<tr>\n",
       "  <th>Skew:</th>          <td> 0.390</td>  <th>  Prob(JB):          </th> <td>    0.00</td> \n",
       "</tr>\n",
       "<tr>\n",
       "  <th>Kurtosis:</th>      <td>10.627</td>  <th>  Cond. No.          </th> <td>    81.7</td> \n",
       "</tr>\n",
       "</table><br/><br/>Notes:<br/>[1] Standard Errors assume that the covariance matrix of the errors is correctly specified."
      ],
      "text/plain": [
       "<class 'statsmodels.iolib.summary.Summary'>\n",
       "\"\"\"\n",
       "                            GLS Regression Results                            \n",
       "==============================================================================\n",
       "Dep. Variable:                      y   R-squared:                       0.365\n",
       "Model:                            GLS   Adj. R-squared:                  0.365\n",
       "Method:                 Least Squares   F-statistic:                     2461.\n",
       "Date:                Fri, 07 May 2021   Prob (F-statistic):               0.00\n",
       "Time:                        10:26:51   Log-Likelihood:                 11367.\n",
       "No. Observations:                4278   AIC:                        -2.273e+04\n",
       "Df Residuals:                    4276   BIC:                        -2.272e+04\n",
       "Df Model:                           1                                         \n",
       "Covariance Type:            nonrobust                                         \n",
       "==============================================================================\n",
       "                 coef    std err          t      P>|t|      [0.025      0.975]\n",
       "------------------------------------------------------------------------------\n",
       "const          0.0011      0.000      4.273      0.000       0.001       0.002\n",
       "0              1.0521      0.021     49.607      0.000       1.011       1.094\n",
       "==============================================================================\n",
       "Omnibus:                      742.583   Durbin-Watson:                   1.930\n",
       "Prob(Omnibus):                  0.000   Jarque-Bera (JB):            10477.356\n",
       "Skew:                           0.390   Prob(JB):                         0.00\n",
       "Kurtosis:                      10.627   Cond. No.                         81.7\n",
       "==============================================================================\n",
       "\n",
       "Notes:\n",
       "[1] Standard Errors assume that the covariance matrix of the errors is correctly specified.\n",
       "\"\"\""
      ]
     },
     "execution_count": 26,
     "metadata": {},
     "output_type": "execute_result"
    }
   ],
   "source": [
    "res_fit.summary()"
   ]
  },
  {
   "cell_type": "markdown",
   "metadata": {},
   "source": [
    "# -------- Fitting with CAPM -------------\n"
   ]
  },
  {
   "cell_type": "code",
   "execution_count": 35,
   "metadata": {},
   "outputs": [],
   "source": [
    "capm = CAPM()"
   ]
  },
  {
   "cell_type": "code",
   "execution_count": 36,
   "metadata": {},
   "outputs": [],
   "source": [
    "r_M = pd.read_csv(\"ps5_checker/sp500.csv\", index_col=0, squeeze=True)\n",
    "excess_log_returns_M = get_excess_log_returns(r_M, r_f).dropna()"
   ]
  },
  {
   "cell_type": "code",
   "execution_count": 80,
   "metadata": {},
   "outputs": [],
   "source": [
    "r_A = pd.read_csv(\"ps5_checker/apple.csv\", index_col=0, squeeze=True)\n",
    "excess_log_returns_A = get_excess_log_returns(r_A, r_f).dropna()"
   ]
  },
  {
   "cell_type": "code",
   "execution_count": 38,
   "metadata": {},
   "outputs": [],
   "source": [
    "capm.fit_SML(excess_log_returns_A, excess_log_returns_M)"
   ]
  },
  {
   "cell_type": "code",
   "execution_count": 39,
   "metadata": {},
   "outputs": [
    {
     "name": "stdout",
     "output_type": "stream",
     "text": [
      "                            GLS Regression Results                            \n",
      "==============================================================================\n",
      "Dep. Variable:                      y   R-squared:                       0.365\n",
      "Model:                            GLS   Adj. R-squared:                  0.365\n",
      "Method:                 Least Squares   F-statistic:                     2461.\n",
      "Date:                Fri, 07 May 2021   Prob (F-statistic):               0.00\n",
      "Time:                        10:27:43   Log-Likelihood:                 11367.\n",
      "No. Observations:                4278   AIC:                        -2.273e+04\n",
      "Df Residuals:                    4276   BIC:                        -2.272e+04\n",
      "Df Model:                           1                                         \n",
      "Covariance Type:            nonrobust                                         \n",
      "==============================================================================\n",
      "                 coef    std err          t      P>|t|      [0.025      0.975]\n",
      "------------------------------------------------------------------------------\n",
      "const          0.0011      0.000      4.273      0.000       0.001       0.002\n",
      "0              1.0521      0.021     49.607      0.000       1.011       1.094\n",
      "==============================================================================\n",
      "Omnibus:                      742.583   Durbin-Watson:                   1.930\n",
      "Prob(Omnibus):                  0.000   Jarque-Bera (JB):            10477.356\n",
      "Skew:                           0.390   Prob(JB):                         0.00\n",
      "Kurtosis:                      10.627   Cond. No.                         81.7\n",
      "==============================================================================\n",
      "\n",
      "Notes:\n",
      "[1] Standard Errors assume that the covariance matrix of the errors is correctly specified.\n"
     ]
    }
   ],
   "source": [
    "capm.display_Regression_Table()"
   ]
  },
  {
   "cell_type": "markdown",
   "metadata": {},
   "source": [
    "# ------------- Task 2: Risk Analysis -----------"
   ]
  },
  {
   "cell_type": "code",
   "execution_count": 40,
   "metadata": {},
   "outputs": [
    {
     "data": {
      "text/plain": [
       "0.11440698027961188"
      ]
     },
     "execution_count": 40,
     "metadata": {},
     "output_type": "execute_result"
    }
   ],
   "source": [
    "total_risk = excess_log_returns_A.var() * 252\n",
    "total_risk"
   ]
  },
  {
   "cell_type": "code",
   "execution_count": 58,
   "metadata": {},
   "outputs": [
    {
     "name": "stdout",
     "output_type": "stream",
     "text": [
      "0.03775501553419064\n",
      "0.04179070873967355\n"
     ]
    }
   ],
   "source": [
    "# Do we use the same beta here as calculated in the single index model?\n",
    "sys_risk = excess_log_returns_M.var() * beta_A**2 * 252\n",
    "print(excess_log_returns_M.var() * 252)\n",
    "print(sys_risk)"
   ]
  },
  {
   "cell_type": "code",
   "execution_count": 59,
   "metadata": {},
   "outputs": [
    {
     "data": {
      "text/plain": [
       "0.07261627153993833"
      ]
     },
     "execution_count": 59,
     "metadata": {},
     "output_type": "execute_result"
    }
   ],
   "source": [
    "asset_spec_risk = (total_risk - sys_risk)\n",
    "asset_spec_risk"
   ]
  },
  {
   "cell_type": "code",
   "execution_count": 62,
   "metadata": {},
   "outputs": [
    {
     "name": "stdout",
     "output_type": "stream",
     "text": [
      "0.6347188900752679\n",
      "0.36528110992473195\n"
     ]
    }
   ],
   "source": [
    "print(asset_spec_risk/total_risk)\n",
    "print(sys_risk/total_risk)"
   ]
  },
  {
   "cell_type": "code",
   "execution_count": null,
   "metadata": {},
   "outputs": [],
   "source": []
  },
  {
   "cell_type": "markdown",
   "metadata": {},
   "source": [
    "# --------- Task 3 -------------"
   ]
  },
  {
   "cell_type": "code",
   "execution_count": 81,
   "metadata": {},
   "outputs": [
    {
     "data": {
      "text/plain": [
       "0.34047340901221484"
      ]
     },
     "execution_count": 81,
     "metadata": {},
     "output_type": "execute_result"
    }
   ],
   "source": [
    "avg_excess_return = excess_log_returns_A.mean() *252\n",
    "avg_excess_return"
   ]
  },
  {
   "cell_type": "code",
   "execution_count": 75,
   "metadata": {},
   "outputs": [
    {
     "data": {
      "text/plain": [
       "0.06091024659629336"
      ]
     },
     "execution_count": 75,
     "metadata": {},
     "output_type": "execute_result"
    }
   ],
   "source": [
    "sml_expected_return = beta_A * excess_log_returns_M.mean() * 252\n",
    "sml_expected_return"
   ]
  },
  {
   "cell_type": "code",
   "execution_count": 48,
   "metadata": {},
   "outputs": [
    {
     "data": {
      "text/plain": [
       "1.0066000271662157"
      ]
     },
     "execution_count": 48,
     "metadata": {},
     "output_type": "execute_result"
    }
   ],
   "source": [
    "# Mean excess return, so no **log** excess returns ?\n",
    "sr_annualized = excess_log_returns_A.mean() / total_risk**0.5 * 252\n",
    "sr_annualized"
   ]
  },
  {
   "cell_type": "code",
   "execution_count": null,
   "metadata": {},
   "outputs": [],
   "source": []
  }
 ],
 "metadata": {
  "kernelspec": {
   "display_name": "Python 3",
   "language": "python",
   "name": "python3"
  },
  "language_info": {
   "codemirror_mode": {
    "name": "ipython",
    "version": 3
   },
   "file_extension": ".py",
   "mimetype": "text/x-python",
   "name": "python",
   "nbconvert_exporter": "python",
   "pygments_lexer": "ipython3",
   "version": "3.8.3"
  }
 },
 "nbformat": 4,
 "nbformat_minor": 4
}
